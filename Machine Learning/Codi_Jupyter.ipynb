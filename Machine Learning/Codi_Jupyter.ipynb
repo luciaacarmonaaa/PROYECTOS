{
 "cells": [
  {
   "cell_type": "markdown",
   "metadata": {},
   "source": [
    "# CAS KAGGLE: Fish Market"
   ]
  },
  {
   "cell_type": "markdown",
   "metadata": {},
   "source": [
    "## **NOM**: Lucía Carmona ####\n",
    "\n",
    "## **NIU**: 1606605 ####"
   ]
  },
  {
   "cell_type": "markdown",
   "metadata": {},
   "source": [
    "### 1.INTRODUCCIÓ I OBJECTIU"
   ]
  },
  {
   "cell_type": "markdown",
   "metadata": {},
   "source": [
    "El cas Kaggle consta del tractament d’una base de dades assignada a cada\n",
    "alumne ( una base de dades diferent per a cada alumne).\n",
    "\n",
    "L’objectiu és, depenent de la base de dades i el que puguis treballar amb ella,\n",
    "tractar la base per assolir un objectiu final. Ja pot ser predir una variable com\n",
    "fer una base de dades més \"neta\".\n",
    "\n",
    "La meva base de dades és la de Fish Market. Aquesta base de dades representa el\n",
    "que seria un mercat de peix (el que té o pot tenir cada \"paradeta\"). Consta de 7\n",
    "diferents espècies de peixos amb els seus respectius pesos, alçades, longituts, etc.\n",
    "\n",
    "El meu objectiu és, a partir de les característiques que vénen donades a la\n",
    "base de dades, predir de quina espècie de peix estem parlant."
   ]
  },
  {
   "cell_type": "code",
   "execution_count": 307,
   "metadata": {},
   "outputs": [],
   "source": [
    "import numpy as np\n",
    "import pandas as pd\n",
    "%matplotlib inline\n",
    "from matplotlib import pyplot as plt\n",
    "\n",
    "path = 'Fish.csv'\n",
    "def load_dataset(path):\n",
    "    dataset = pd.read_csv(path, header=0, delimiter=',')\n",
    "    return dataset\n",
    "\n",
    "dataset = load_dataset(path)"
   ]
  },
  {
   "cell_type": "markdown",
   "metadata": {},
   "source": [
    "### 2. TRACTAMENT DE LES DADES"
   ]
  },
  {
   "cell_type": "markdown",
   "metadata": {},
   "source": [
    "En aquesta part del codi, mirarem com és el nostre Dataset i el començarem a tractar per a que sigui més fàcil treballar amb ell. \n",
    "\n",
    "Primer de tot, mirarem quines son les primeres lineas del nostre dataset per assegurar-nos de que sigui l'adecuat i funcioni al nostre Jupyter. "
   ]
  },
  {
   "cell_type": "code",
   "execution_count": 308,
   "metadata": {
    "scrolled": true
   },
   "outputs": [
    {
     "data": {
      "text/html": [
       "<div>\n",
       "<style scoped>\n",
       "    .dataframe tbody tr th:only-of-type {\n",
       "        vertical-align: middle;\n",
       "    }\n",
       "\n",
       "    .dataframe tbody tr th {\n",
       "        vertical-align: top;\n",
       "    }\n",
       "\n",
       "    .dataframe thead th {\n",
       "        text-align: right;\n",
       "    }\n",
       "</style>\n",
       "<table border=\"1\" class=\"dataframe\">\n",
       "  <thead>\n",
       "    <tr style=\"text-align: right;\">\n",
       "      <th></th>\n",
       "      <th>Species</th>\n",
       "      <th>Weight</th>\n",
       "      <th>Length1</th>\n",
       "      <th>Length2</th>\n",
       "      <th>Length3</th>\n",
       "      <th>Height</th>\n",
       "      <th>Width</th>\n",
       "    </tr>\n",
       "  </thead>\n",
       "  <tbody>\n",
       "    <tr>\n",
       "      <th>0</th>\n",
       "      <td>Bream</td>\n",
       "      <td>242.0</td>\n",
       "      <td>23.2</td>\n",
       "      <td>25.4</td>\n",
       "      <td>30.0</td>\n",
       "      <td>11.5200</td>\n",
       "      <td>4.0200</td>\n",
       "    </tr>\n",
       "    <tr>\n",
       "      <th>1</th>\n",
       "      <td>Bream</td>\n",
       "      <td>290.0</td>\n",
       "      <td>24.0</td>\n",
       "      <td>26.3</td>\n",
       "      <td>31.2</td>\n",
       "      <td>12.4800</td>\n",
       "      <td>4.3056</td>\n",
       "    </tr>\n",
       "    <tr>\n",
       "      <th>2</th>\n",
       "      <td>Bream</td>\n",
       "      <td>340.0</td>\n",
       "      <td>23.9</td>\n",
       "      <td>26.5</td>\n",
       "      <td>31.1</td>\n",
       "      <td>12.3778</td>\n",
       "      <td>4.6961</td>\n",
       "    </tr>\n",
       "    <tr>\n",
       "      <th>3</th>\n",
       "      <td>Bream</td>\n",
       "      <td>363.0</td>\n",
       "      <td>26.3</td>\n",
       "      <td>29.0</td>\n",
       "      <td>33.5</td>\n",
       "      <td>12.7300</td>\n",
       "      <td>4.4555</td>\n",
       "    </tr>\n",
       "    <tr>\n",
       "      <th>4</th>\n",
       "      <td>Bream</td>\n",
       "      <td>430.0</td>\n",
       "      <td>26.5</td>\n",
       "      <td>29.0</td>\n",
       "      <td>34.0</td>\n",
       "      <td>12.4440</td>\n",
       "      <td>5.1340</td>\n",
       "    </tr>\n",
       "  </tbody>\n",
       "</table>\n",
       "</div>"
      ],
      "text/plain": [
       "  Species  Weight  Length1  Length2  Length3   Height   Width\n",
       "0   Bream   242.0     23.2     25.4     30.0  11.5200  4.0200\n",
       "1   Bream   290.0     24.0     26.3     31.2  12.4800  4.3056\n",
       "2   Bream   340.0     23.9     26.5     31.1  12.3778  4.6961\n",
       "3   Bream   363.0     26.3     29.0     33.5  12.7300  4.4555\n",
       "4   Bream   430.0     26.5     29.0     34.0  12.4440  5.1340"
      ]
     },
     "execution_count": 308,
     "metadata": {},
     "output_type": "execute_result"
    }
   ],
   "source": [
    "dataset.head()"
   ]
  },
  {
   "cell_type": "markdown",
   "metadata": {},
   "source": [
    "Podem comprovar que el nostre dataset consta de les variables Species, Weight, Lenght1, Lenght2, Lenght3, Height i Width. \n",
    "\n",
    "Ara comrpovarem si hi ha NANs en el nostre dataset fen la suma per columnes i en total de les variables al nostre dataset. "
   ]
  },
  {
   "cell_type": "code",
   "execution_count": 309,
   "metadata": {},
   "outputs": [
    {
     "data": {
      "text/plain": [
       "0"
      ]
     },
     "execution_count": 309,
     "metadata": {},
     "output_type": "execute_result"
    }
   ],
   "source": [
    "dataset.isna().sum().sum() "
   ]
  },
  {
   "cell_type": "markdown",
   "metadata": {},
   "source": [
    "Veiem que no hi ha cap NAN, i això fara que treballar amb aquesta base de dades sigui més fàcil. \n",
    "\n",
    "El següent que voldrem fer és saber com és la base de dades amb la que estem treballant. Voldrem saber la seva dimensió, per ser més concrets. "
   ]
  },
  {
   "cell_type": "code",
   "execution_count": 310,
   "metadata": {},
   "outputs": [
    {
     "name": "stdout",
     "output_type": "stream",
     "text": [
      "Dimensionalitat de la BBDD: (159, 7)\n",
      "Dimensionalitat de les entrades X (159, 6)\n",
      "Dimensionalitat de l'atribut Y (159,)\n"
     ]
    }
   ],
   "source": [
    "data = dataset.values\n",
    "\n",
    "x = data[:,[i for i in range(data.shape[1]) if dataset.columns[i] not in ['Species']]]\n",
    "colX = [i for i in dataset.columns if i not in ['Species']]\n",
    "y = data[:,dataset.columns.get_loc('Species')]  \n",
    "\n",
    "print(\"Dimensionalitat de la BBDD:\", dataset.shape)\n",
    "print(\"Dimensionalitat de les entrades X\", x.shape)\n",
    "print(\"Dimensionalitat de l'atribut Y\", y.shape) "
   ]
  },
  {
   "cell_type": "markdown",
   "metadata": {},
   "source": [
    "Veiem que la nostra base de dades té una dimensió de (159, 7), la de les entrades X és (159,6) i la de l'atribut Y és (159, 1). \n",
    "\n",
    "Ara utilitzarem la funció describe per veure estadístiques dels atributs numèrics de la base de dades. "
   ]
  },
  {
   "cell_type": "code",
   "execution_count": 311,
   "metadata": {},
   "outputs": [
    {
     "data": {
      "text/html": [
       "<div>\n",
       "<style scoped>\n",
       "    .dataframe tbody tr th:only-of-type {\n",
       "        vertical-align: middle;\n",
       "    }\n",
       "\n",
       "    .dataframe tbody tr th {\n",
       "        vertical-align: top;\n",
       "    }\n",
       "\n",
       "    .dataframe thead th {\n",
       "        text-align: right;\n",
       "    }\n",
       "</style>\n",
       "<table border=\"1\" class=\"dataframe\">\n",
       "  <thead>\n",
       "    <tr style=\"text-align: right;\">\n",
       "      <th></th>\n",
       "      <th>Weight</th>\n",
       "      <th>Length1</th>\n",
       "      <th>Length2</th>\n",
       "      <th>Length3</th>\n",
       "      <th>Height</th>\n",
       "      <th>Width</th>\n",
       "    </tr>\n",
       "  </thead>\n",
       "  <tbody>\n",
       "    <tr>\n",
       "      <th>count</th>\n",
       "      <td>159.000000</td>\n",
       "      <td>159.000000</td>\n",
       "      <td>159.000000</td>\n",
       "      <td>159.000000</td>\n",
       "      <td>159.000000</td>\n",
       "      <td>159.000000</td>\n",
       "    </tr>\n",
       "    <tr>\n",
       "      <th>mean</th>\n",
       "      <td>398.326415</td>\n",
       "      <td>26.247170</td>\n",
       "      <td>28.415723</td>\n",
       "      <td>31.227044</td>\n",
       "      <td>8.970994</td>\n",
       "      <td>4.417486</td>\n",
       "    </tr>\n",
       "    <tr>\n",
       "      <th>std</th>\n",
       "      <td>357.978317</td>\n",
       "      <td>9.996441</td>\n",
       "      <td>10.716328</td>\n",
       "      <td>11.610246</td>\n",
       "      <td>4.286208</td>\n",
       "      <td>1.685804</td>\n",
       "    </tr>\n",
       "    <tr>\n",
       "      <th>min</th>\n",
       "      <td>0.000000</td>\n",
       "      <td>7.500000</td>\n",
       "      <td>8.400000</td>\n",
       "      <td>8.800000</td>\n",
       "      <td>1.728400</td>\n",
       "      <td>1.047600</td>\n",
       "    </tr>\n",
       "    <tr>\n",
       "      <th>25%</th>\n",
       "      <td>120.000000</td>\n",
       "      <td>19.050000</td>\n",
       "      <td>21.000000</td>\n",
       "      <td>23.150000</td>\n",
       "      <td>5.944800</td>\n",
       "      <td>3.385650</td>\n",
       "    </tr>\n",
       "    <tr>\n",
       "      <th>50%</th>\n",
       "      <td>273.000000</td>\n",
       "      <td>25.200000</td>\n",
       "      <td>27.300000</td>\n",
       "      <td>29.400000</td>\n",
       "      <td>7.786000</td>\n",
       "      <td>4.248500</td>\n",
       "    </tr>\n",
       "    <tr>\n",
       "      <th>75%</th>\n",
       "      <td>650.000000</td>\n",
       "      <td>32.700000</td>\n",
       "      <td>35.500000</td>\n",
       "      <td>39.650000</td>\n",
       "      <td>12.365900</td>\n",
       "      <td>5.584500</td>\n",
       "    </tr>\n",
       "    <tr>\n",
       "      <th>max</th>\n",
       "      <td>1650.000000</td>\n",
       "      <td>59.000000</td>\n",
       "      <td>63.400000</td>\n",
       "      <td>68.000000</td>\n",
       "      <td>18.957000</td>\n",
       "      <td>8.142000</td>\n",
       "    </tr>\n",
       "  </tbody>\n",
       "</table>\n",
       "</div>"
      ],
      "text/plain": [
       "            Weight     Length1     Length2     Length3      Height       Width\n",
       "count   159.000000  159.000000  159.000000  159.000000  159.000000  159.000000\n",
       "mean    398.326415   26.247170   28.415723   31.227044    8.970994    4.417486\n",
       "std     357.978317    9.996441   10.716328   11.610246    4.286208    1.685804\n",
       "min       0.000000    7.500000    8.400000    8.800000    1.728400    1.047600\n",
       "25%     120.000000   19.050000   21.000000   23.150000    5.944800    3.385650\n",
       "50%     273.000000   25.200000   27.300000   29.400000    7.786000    4.248500\n",
       "75%     650.000000   32.700000   35.500000   39.650000   12.365900    5.584500\n",
       "max    1650.000000   59.000000   63.400000   68.000000   18.957000    8.142000"
      ]
     },
     "execution_count": 311,
     "metadata": {},
     "output_type": "execute_result"
    }
   ],
   "source": [
    "dataset.describe()"
   ]
  },
  {
   "cell_type": "markdown",
   "metadata": {},
   "source": [
    "Les variables Lenght poden ser confuses, així que com que en aquesta part del codi estem millorant la base de dades per a que sigui més fàcil treballar amb ella, reescriurem el nom de les variables i tornarem a imprimir les estadístiques dels atributs un cops canviats de nom. "
   ]
  },
  {
   "cell_type": "code",
   "execution_count": 312,
   "metadata": {},
   "outputs": [
    {
     "data": {
      "text/html": [
       "<div>\n",
       "<style scoped>\n",
       "    .dataframe tbody tr th:only-of-type {\n",
       "        vertical-align: middle;\n",
       "    }\n",
       "\n",
       "    .dataframe tbody tr th {\n",
       "        vertical-align: top;\n",
       "    }\n",
       "\n",
       "    .dataframe thead th {\n",
       "        text-align: right;\n",
       "    }\n",
       "</style>\n",
       "<table border=\"1\" class=\"dataframe\">\n",
       "  <thead>\n",
       "    <tr style=\"text-align: right;\">\n",
       "      <th></th>\n",
       "      <th>Weight</th>\n",
       "      <th>Vertical_length</th>\n",
       "      <th>Diagonal_length</th>\n",
       "      <th>Cross_length</th>\n",
       "      <th>Height</th>\n",
       "      <th>Width</th>\n",
       "    </tr>\n",
       "  </thead>\n",
       "  <tbody>\n",
       "    <tr>\n",
       "      <th>count</th>\n",
       "      <td>159.000000</td>\n",
       "      <td>159.000000</td>\n",
       "      <td>159.000000</td>\n",
       "      <td>159.000000</td>\n",
       "      <td>159.000000</td>\n",
       "      <td>159.000000</td>\n",
       "    </tr>\n",
       "    <tr>\n",
       "      <th>mean</th>\n",
       "      <td>398.326415</td>\n",
       "      <td>26.247170</td>\n",
       "      <td>28.415723</td>\n",
       "      <td>31.227044</td>\n",
       "      <td>8.970994</td>\n",
       "      <td>4.417486</td>\n",
       "    </tr>\n",
       "    <tr>\n",
       "      <th>std</th>\n",
       "      <td>357.978317</td>\n",
       "      <td>9.996441</td>\n",
       "      <td>10.716328</td>\n",
       "      <td>11.610246</td>\n",
       "      <td>4.286208</td>\n",
       "      <td>1.685804</td>\n",
       "    </tr>\n",
       "    <tr>\n",
       "      <th>min</th>\n",
       "      <td>0.000000</td>\n",
       "      <td>7.500000</td>\n",
       "      <td>8.400000</td>\n",
       "      <td>8.800000</td>\n",
       "      <td>1.728400</td>\n",
       "      <td>1.047600</td>\n",
       "    </tr>\n",
       "    <tr>\n",
       "      <th>25%</th>\n",
       "      <td>120.000000</td>\n",
       "      <td>19.050000</td>\n",
       "      <td>21.000000</td>\n",
       "      <td>23.150000</td>\n",
       "      <td>5.944800</td>\n",
       "      <td>3.385650</td>\n",
       "    </tr>\n",
       "    <tr>\n",
       "      <th>50%</th>\n",
       "      <td>273.000000</td>\n",
       "      <td>25.200000</td>\n",
       "      <td>27.300000</td>\n",
       "      <td>29.400000</td>\n",
       "      <td>7.786000</td>\n",
       "      <td>4.248500</td>\n",
       "    </tr>\n",
       "    <tr>\n",
       "      <th>75%</th>\n",
       "      <td>650.000000</td>\n",
       "      <td>32.700000</td>\n",
       "      <td>35.500000</td>\n",
       "      <td>39.650000</td>\n",
       "      <td>12.365900</td>\n",
       "      <td>5.584500</td>\n",
       "    </tr>\n",
       "    <tr>\n",
       "      <th>max</th>\n",
       "      <td>1650.000000</td>\n",
       "      <td>59.000000</td>\n",
       "      <td>63.400000</td>\n",
       "      <td>68.000000</td>\n",
       "      <td>18.957000</td>\n",
       "      <td>8.142000</td>\n",
       "    </tr>\n",
       "  </tbody>\n",
       "</table>\n",
       "</div>"
      ],
      "text/plain": [
       "            Weight  Vertical_length  Diagonal_length  Cross_length  \\\n",
       "count   159.000000       159.000000       159.000000    159.000000   \n",
       "mean    398.326415        26.247170        28.415723     31.227044   \n",
       "std     357.978317         9.996441        10.716328     11.610246   \n",
       "min       0.000000         7.500000         8.400000      8.800000   \n",
       "25%     120.000000        19.050000        21.000000     23.150000   \n",
       "50%     273.000000        25.200000        27.300000     29.400000   \n",
       "75%     650.000000        32.700000        35.500000     39.650000   \n",
       "max    1650.000000        59.000000        63.400000     68.000000   \n",
       "\n",
       "           Height       Width  \n",
       "count  159.000000  159.000000  \n",
       "mean     8.970994    4.417486  \n",
       "std      4.286208    1.685804  \n",
       "min      1.728400    1.047600  \n",
       "25%      5.944800    3.385650  \n",
       "50%      7.786000    4.248500  \n",
       "75%     12.365900    5.584500  \n",
       "max     18.957000    8.142000  "
      ]
     },
     "execution_count": 312,
     "metadata": {},
     "output_type": "execute_result"
    }
   ],
   "source": [
    "dataset = dataset.rename({'Length1':'Vertical_length', 'Length2':'Diagonal_length', 'Length3': 'Cross_length'}, axis = 'columns')\n",
    "dataset.describe()"
   ]
  },
  {
   "cell_type": "markdown",
   "metadata": {},
   "source": [
    "Per poder visualitzar millor la nostra base de dades per cada característica que presenta, imprimim en forma de histograma els valors per cada característica. \n",
    "\n",
    "Així podem veure entre quins valors es reparteixen les nostres característiques i quina és la distribució que segueixen. \n",
    "\n",
    "Clarament podem veure que les distribucions no son molt exactes matemàticament. Hi ha, per això, algunes característiques (com Length1, Length2 i Width) que si que semblen que segueixen una distribució Gaussiana. "
   ]
  },
  {
   "cell_type": "code",
   "execution_count": 313,
   "metadata": {},
   "outputs": [
    {
     "data": {
      "image/png": "[encoded data removed]",
      "text/plain": [
       "<Figure size 1440x720 with 6 Axes>"
      ]
     },
     "metadata": {
      "needs_background": "light"
     },
     "output_type": "display_data"
    }
   ],
   "source": [
    "np.warnings.filterwarnings('ignore') # per ignorar warnings que no són preocupants\n",
    "import math\n",
    "import scipy.stats as stats\n",
    "from scipy.stats import norm\n",
    "\n",
    "fig = plt.figure(figsize=(20, 10))\n",
    "\n",
    "for i in range(6):\n",
    "    xi = x[:,i]\n",
    "    xi = xi.astype(float)\n",
    "    plt.subplot(2,3, i+1)\n",
    "    plt.hist(xi, bins=20, range=[np.nanmin(xi), np.nanmax(xi)],density=True, histtype=\"bar\", rwidth=0.8, label=\"hola\")\n",
    "    plt.title(colX[i])\n",
    "\n",
    "    xi = xi[~np.isnan(xi)]\n",
    "    mu, std = norm.fit(xi) \n",
    "    xmin, xmax = plt.xlim()\n",
    "    xh = np.linspace(xmin, xmax, 100)\n",
    "    p = norm.pdf(xh, mu, std)\n",
    "    plt.plot(xh, p, 'k', linewidth=1,color='r')\n",
    "        \n",
    "    g = plt.gca()\n",
    "    g.axes.get_xaxis().set_visible(False)\n",
    "    g.axes.get_yaxis().set_visible(False)\n",
    "\n",
    "plt.tight_layout()\n",
    "plt.show()    "
   ]
  },
  {
   "cell_type": "markdown",
   "metadata": {},
   "source": [
    "### 3. ENTRENANT EL MODEL "
   ]
  },
  {
   "cell_type": "markdown",
   "metadata": {},
   "source": [
    "Un cop sabem com és la nostra base de dades, podem començar a entrenar-ho. \n",
    "\n",
    "Primer de tot hem de fixar un objectiu.\n",
    "\n",
    "En aquest cas, he centrat el treball en predir quin tipus de peix estem estudiant depenent de les característiques donades. \n",
    "\n",
    "Fixat llavors l'objectiu, el primer que farem serà dividir el nostre model en Train i Test."
   ]
  },
  {
   "cell_type": "code",
   "execution_count": 314,
   "metadata": {},
   "outputs": [
    {
     "name": "stdout",
     "output_type": "stream",
     "text": [
      "X_train:\n",
      "  [[1000.0 41.1 44.0 46.6 12.4888 7.5958]\n",
      " [650.0 36.5 39.0 41.4 11.1366 6.002999999999999]\n",
      " [900.0 37.0 40.0 42.5 11.73 7.225]\n",
      " [7.5 10.0 10.5 11.6 1.972 1.16]\n",
      " [510.0 40.0 42.5 45.5 6.825 4.459]\n",
      " [85.0 17.8 19.6 20.8 5.1376 3.0368]\n",
      " [160.0 20.5 22.5 25.3 7.0334 3.8203]\n",
      " [475.0 28.4 31.0 36.2 14.2628 5.1042]\n",
      " [78.0 16.8 18.7 19.4 5.1992 3.1234]\n",
      " [9.8 11.4 12.0 13.2 2.2044 1.1484]\n",
      " [450.0 26.8 29.7 34.7 13.6024 4.9274]\n",
      " [218.0 25.0 26.5 28.0 7.167999999999999 4.144]\n",
      " [770.0 44.8 48.0 51.2 7.68 5.376]\n",
      " [1000.0 33.5 37.0 42.6 18.957 6.603]\n",
      " [9.9 11.3 11.8 13.1 2.2139 1.1659]\n",
      " [450.0 27.6 30.0 35.1 14.0049 4.8438]\n",
      " [500.0 28.7 31.0 36.2 14.3714 4.8146]\n",
      " [150.0 20.5 22.5 24.0 6.792000000000001 3.6239999999999997]\n",
      " [110.0 19.0 21.0 22.5 5.6925 3.555]\n",
      " [690.0 34.6 37.0 39.3 10.5717 6.3666]\n",
      " [130.0 20.5 22.5 24.0 5.856 3.6239999999999997]\n",
      " [273.0 23.0 25.0 28.0 11.088 4.144]\n",
      " [9.7 10.4 11.0 12.0 2.1959999999999997 1.38]\n",
      " [200.0 22.1 23.5 26.8 7.3968 4.1272]\n",
      " [51.5 15.0 16.2 17.2 4.5924 2.6316]\n",
      " [340.0 23.9 26.5 31.1 12.3778 4.6961]\n",
      " [145.0 20.5 22.0 24.3 6.6339 3.5478]\n",
      " [900.0 36.5 39.0 41.4 11.1366 7.4934]\n",
      " [150.0 21.0 23.0 24.5 5.2185 3.6260000000000003]\n",
      " [300.0 34.8 37.3 39.8 6.2884 4.0198]\n",
      " [145.0 20.7 22.7 24.2 5.9532 3.63]\n",
      " [12.2 11.5 12.2 13.4 2.0904 1.3936]\n",
      " [7.0 10.1 10.6 11.6 1.7284 1.1484]\n",
      " [1650.0 59.0 63.4 68.0 10.812000000000001 7.48]\n",
      " [567.0 43.2 46.0 48.7 7.792000000000001 4.87]\n",
      " [130.0 19.3 21.3 22.8 6.3839999999999995 3.534]\n",
      " [714.0 32.7 36.0 41.5 16.517 5.8515]\n",
      " [120.0 19.4 21.0 23.7 6.1146 3.2943]\n",
      " [120.0 20.0 22.0 23.5 6.11 3.4075]\n",
      " [40.0 12.9 14.1 16.2 4.1472 2.2680000000000002]\n",
      " [13.4 11.7 12.4 13.5 2.43 1.2690000000000001]\n",
      " [850.0 36.9 40.0 42.3 11.9286 7.1064]\n",
      " [110.0 19.1 20.8 23.1 6.1677 3.3957]\n",
      " [12.2 12.1 13.0 13.8 2.2769999999999997 1.2558]\n",
      " [300.0 24.0 26.0 29.0 11.368 4.234]\n",
      " [700.0 30.4 33.0 38.3 14.8604 5.2854]\n",
      " [700.0 34.5 37.0 39.4 10.835 6.2646]\n",
      " [265.0 25.4 27.5 28.9 7.0516 4.335]\n",
      " [200.0 21.2 23.0 25.8 10.3458 3.6636]\n",
      " [1100.0 39.0 42.0 44.6 12.8002 6.8684]\n",
      " [140.0 21.0 22.5 25.0 6.55 3.325]\n",
      " [725.0 31.8 35.0 40.9 16.36 6.0532]\n",
      " [955.0 35.0 38.5 44.0 18.084 6.292000000000001]\n",
      " [1550.0 56.0 60.0 64.0 9.6 6.144]\n",
      " [1000.0 40.2 43.5 46.0 12.604000000000001 8.142000000000001]\n",
      " [150.0 20.4 22.0 24.7 5.8045 3.7544]\n",
      " [80.0 17.2 19.0 20.2 5.6358 3.0502]\n",
      " [500.0 29.1 31.5 36.4 13.7592 4.368]\n",
      " [600.0 29.4 32.0 37.2 15.437999999999999 5.58]\n",
      " [290.0 24.0 26.3 31.2 12.48 4.3056]\n",
      " [130.0 20.0 22.0 23.5 6.11 3.525]\n",
      " [1100.0 40.1 43.0 45.5 12.5125 7.4165]\n",
      " [925.0 36.2 39.5 45.3 18.7542 6.7497]\n",
      " [820.0 36.6 39.0 41.3 12.4313 7.3514]\n",
      " [850.0 32.8 36.0 41.6 16.8896 6.1984]\n",
      " [500.0 42.0 45.0 48.0 6.96 4.896]\n",
      " [1000.0 39.8 43.0 45.2 11.9328 7.2772]\n",
      " [575.0 31.3 34.0 39.5 15.1285 5.5695]\n",
      " [85.0 18.2 20.0 21.0 5.082 2.772]\n",
      " [69.0 16.5 18.2 20.3 5.2983 2.8217]\n",
      " [225.0 22.0 24.0 25.5 7.292999999999999 3.7230000000000003]\n",
      " [1000.0 37.3 40.0 43.5 12.354000000000001 6.525]\n",
      " [700.0 30.4 33.0 38.5 14.937999999999999 5.1975]\n",
      " [514.0 30.5 32.8 34.0 10.03 6.018]\n",
      " [169.0 22.0 24.0 27.2 7.5344 3.8352]\n",
      " [160.0 21.1 22.5 25.0 6.4 3.8]\n",
      " [1250.0 52.0 56.0 59.7 10.6863 6.9849]\n",
      " [800.0 33.7 36.4 39.6 11.7612 6.5736]\n",
      " [60.0 14.3 15.5 17.4 6.5772 2.3142]\n",
      " [840.0 32.5 35.0 37.3 11.4884 7.7957]\n",
      " [40.0 13.8 15.0 16.0 3.824 2.432]\n",
      " [300.0 25.2 27.3 28.7 8.323 5.1373]\n",
      " [8.7 10.8 11.3 12.6 1.9782 1.2852]\n",
      " [145.0 22.0 24.0 25.5 6.375 3.825]\n",
      " [950.0 48.3 51.7 55.1 8.9262 6.1712]\n",
      " [150.0 18.4 20.0 22.4 8.8928 3.2928]\n",
      " [700.0 31.9 35.0 40.5 16.2405 5.5889999999999995]\n",
      " [170.0 19.0 20.7 23.2 9.396 3.4104]\n",
      " [140.0 19.0 20.7 23.2 8.5376 3.2944]\n",
      " [340.0 29.5 32.0 37.3 13.9129 5.0728]\n",
      " [700.0 34.0 36.0 38.3 10.6091 6.7408]\n",
      " [540.0 40.1 43.0 45.8 7.7860000000000005 5.1296]\n",
      " [345.0 36.0 38.5 41.0 6.396 3.977]\n",
      " [0.0 19.0 20.5 22.8 6.4752 3.3516]\n",
      " [950.0 38.0 41.0 46.5 17.6235 6.3705]\n",
      " [9.8 10.7 11.2 12.4 2.0832 1.2772]\n",
      " [620.0 31.5 34.5 39.7 15.5227 5.2801]\n",
      " [180.0 23.6 25.2 27.9 7.0866 3.906]\n",
      " [920.0 35.0 38.5 44.1 18.0369 6.3063]\n",
      " [125.0 19.0 21.0 22.5 5.6925 3.6675]\n",
      " [110.0 20.0 22.0 23.5 5.5225 3.995]\n",
      " [188.0 22.6 24.6 26.2 6.7334 4.1658]\n",
      " [180.0 23.0 25.0 26.5 6.4395 3.6835]\n",
      " [90.0 16.3 17.7 19.8 7.4052 2.673]\n",
      " [540.0 28.5 31.0 34.0 10.744000000000002 6.562]\n",
      " [120.0 18.6 20.0 22.2 6.216 3.5742]\n",
      " [600.0 29.4 32.0 37.2 14.9544 5.1708]\n",
      " [456.0 40.0 42.5 45.5 7.28 4.3225]\n",
      " [250.0 25.4 27.5 28.9 7.2828 4.5662]\n",
      " [720.0 32.0 35.0 40.6 16.3618 6.09]\n",
      " [270.0 24.1 26.5 29.3 8.1454 4.2485]] \n",
      "\n",
      "Y_train:\n",
      " ['Perch' 'Perch' 'Perch' 'Smelt' 'Pike' 'Perch' 'Roach' 'Bream' 'Perch'\n",
      " 'Smelt' 'Bream' 'Perch' 'Pike' 'Bream' 'Smelt' 'Bream' 'Bream' 'Perch'\n",
      " 'Perch' 'Perch' 'Perch' 'Parkki' 'Smelt' 'Roach' 'Perch' 'Bream' 'Roach'\n",
      " 'Perch' 'Perch' 'Pike' 'Perch' 'Smelt' 'Smelt' 'Pike' 'Pike' 'Perch'\n",
      " 'Bream' 'Roach' 'Perch' 'Roach' 'Smelt' 'Perch' 'Roach' 'Smelt' 'Parkki'\n",
      " 'Bream' 'Perch' 'Perch' 'Parkki' 'Perch' 'Roach' 'Bream' 'Bream' 'Pike'\n",
      " 'Perch' 'Roach' 'Perch' 'Bream' 'Bream' 'Bream' 'Perch' 'Perch' 'Bream'\n",
      " 'Perch' 'Bream' 'Pike' 'Perch' 'Bream' 'Perch' 'Roach' 'Perch'\n",
      " 'Whitefish' 'Bream' 'Perch' 'Roach' 'Roach' 'Pike' 'Whitefish' 'Parkki'\n",
      " 'Perch' 'Perch' 'Perch' 'Smelt' 'Perch' 'Pike' 'Parkki' 'Bream' 'Parkki'\n",
      " 'Parkki' 'Bream' 'Perch' 'Pike' 'Pike' 'Roach' 'Bream' 'Smelt' 'Bream'\n",
      " 'Roach' 'Bream' 'Perch' 'Perch' 'Perch' 'Perch' 'Parkki' 'Whitefish'\n",
      " 'Roach' 'Bream' 'Pike' 'Perch' 'Bream' 'Whitefish'] \n",
      "\n",
      "X_test:\n",
      " [[685.0 34.0 36.5 39.0 10.880999999999998 6.864]\n",
      " [10.0 11.3 11.8 13.1 2.2139 1.2838]\n",
      " [685.0 31.4 34.0 39.2 15.9936 5.3704]\n",
      " [300.0 31.7 34.0 37.8 5.7078 4.158]\n",
      " [197.0 23.5 25.6 27.0 6.561 4.239]\n",
      " [19.9 13.8 15.0 16.2 2.9322 1.8792]\n",
      " [242.0 23.2 25.4 30.0 11.52 4.02]\n",
      " [975.0 37.4 41.0 45.9 18.6354 6.7473]\n",
      " [680.0 31.8 35.0 40.6 15.4686 6.1306]\n",
      " [500.0 26.8 29.7 34.5 14.1795 5.2785]\n",
      " [270.0 23.6 26.0 28.7 8.3804 4.2476]\n",
      " [78.0 17.5 18.8 21.2 5.5756 2.9044]\n",
      " [70.0 15.7 17.4 18.5 4.588 2.9415]\n",
      " [1600.0 56.0 60.0 64.0 9.6 6.144]\n",
      " [32.0 12.5 13.7 14.7 3.528 1.9992]\n",
      " [120.0 17.5 19.0 21.3 8.3922 2.9181]\n",
      " [363.0 26.3 29.0 33.5 12.73 4.4555]\n",
      " [320.0 27.8 30.0 31.6 7.6156 4.7716]\n",
      " [272.0 25.0 27.0 30.6 8.568 4.7736]\n",
      " [1015.0 37.0 40.0 42.4 12.3808 7.4624]\n",
      " [500.0 28.5 30.7 36.2 14.2266 4.9594]\n",
      " [6.7 9.3 9.8 10.8 1.7388 1.0476]\n",
      " [55.0 13.5 14.7 16.5 6.8475 2.3265]\n",
      " [5.9 7.5 8.4 8.8 2.112 1.4080000000000001]\n",
      " [390.0 27.6 30.0 35.0 12.67 4.69]\n",
      " [115.0 19.0 21.0 22.5 5.9175 3.3075]\n",
      " [260.0 25.4 27.5 28.9 7.1672 4.335]\n",
      " [290.0 24.0 26.0 29.2 8.8768 4.4968]\n",
      " [100.0 16.2 18.0 19.2 5.2224 3.3216]\n",
      " [306.0 25.6 28.0 30.8 8.777999999999999 4.6816]\n",
      " [145.0 19.8 21.5 24.1 9.7364 3.1571]\n",
      " [430.0 35.5 38.0 40.5 7.29 4.5765]\n",
      " [650.0 31.0 33.5 38.7 14.4738 5.7276]\n",
      " [430.0 26.5 29.0 34.0 12.444 5.1339999999999995]\n",
      " [556.0 32.0 34.5 36.5 10.2565 6.3875]\n",
      " [19.7 13.2 14.3 15.2 2.8728 2.0672]\n",
      " [120.0 20.0 22.0 23.5 5.64 3.525]\n",
      " [135.0 20.0 22.0 23.5 5.875 3.525]\n",
      " [300.0 32.7 35.0 38.8 5.9364 4.3844]\n",
      " [300.0 26.9 28.7 30.1 7.5852 4.6354]\n",
      " [170.0 21.5 23.5 25.0 6.275 3.725]\n",
      " [200.0 30.0 32.3 34.8 5.568 3.3756]\n",
      " [87.0 18.2 19.8 22.2 5.6166 3.1746]\n",
      " [610.0 30.9 33.5 38.6 15.633 5.1338]\n",
      " [250.0 25.9 28.0 29.4 7.8204 4.2042]\n",
      " [161.0 22.0 23.4 26.7 6.9153 3.6312]\n",
      " [390.0 29.5 31.7 35.0 9.485 5.355]\n",
      " [820.0 37.1 40.0 42.5 11.135 6.63]] \n",
      "\n",
      "Y_test:\n",
      " ['Perch' 'Smelt' 'Bream' 'Pike' 'Perch' 'Smelt' 'Bream' 'Bream' 'Bream'\n",
      " 'Bream' 'Whitefish' 'Roach' 'Perch' 'Pike' 'Perch' 'Parkki' 'Bream'\n",
      " 'Perch' 'Roach' 'Perch' 'Bream' 'Smelt' 'Parkki' 'Perch' 'Bream' 'Perch'\n",
      " 'Perch' 'Roach' 'Perch' 'Whitefish' 'Parkki' 'Pike' 'Bream' 'Bream'\n",
      " 'Perch' 'Smelt' 'Perch' 'Perch' 'Pike' 'Perch' 'Perch' 'Pike' 'Roach'\n",
      " 'Bream' 'Perch' 'Roach' 'Roach' 'Perch']\n"
     ]
    }
   ],
   "source": [
    "from sklearn.model_selection import train_test_split\n",
    "x_train,x_test,y_train,y_test = train_test_split(x,y,test_size=0.3, random_state = 0, stratify = y)\n",
    "\n",
    "print(\"X_train:\\n \", x_train, \"\\n\")\n",
    "print(\"Y_train:\\n\", y_train, \"\\n\")\n",
    "print(\"X_test:\\n\", x_test, \"\\n\")\n",
    "print(\"Y_test:\\n\", y_test)"
   ]
  },
  {
   "cell_type": "markdown",
   "metadata": {},
   "source": [
    "Avans d'entrenar el model, és de molta ajuda poder visualitzar com és el nostre model per així saber mes o menys quines funcions o maneres d'entrenar-lo funcionaran millor pel nostre cas. Per fer-ho, podem imprimir un histograma de com estan repartieds les nostres variables en el dataset. És a dir, podem veure quina espècien de peix (en aquest cas) te més quantitat de peixos. "
   ]
  },
  {
   "cell_type": "code",
   "execution_count": 315,
   "metadata": {},
   "outputs": [
    {
     "data": {
      "text/plain": [
       "<AxesSubplot:>"
      ]
     },
     "execution_count": 315,
     "metadata": {},
     "output_type": "execute_result"
    },
    {
     "data": {
      "image/png": "[encoded data removed]",
      "text/plain": [
       "<Figure size 432x288 with 1 Axes>"
      ]
     },
     "metadata": {
      "needs_background": "light"
     },
     "output_type": "display_data"
    }
   ],
   "source": [
    "dataset['Species'].hist()"
   ]
  },
  {
   "cell_type": "markdown",
   "metadata": {},
   "source": [
    "Clarament podem veure que Perch és la espècie que té més quantitat de peixos en el nostre dataset. Però veiem que la espècie Whitefish no es quasi notable ( hi ha menys de 10 peixos que siguin Whitefish al nostre dataset ) cosa que podria ser un problema a l'hora de fer una classificació, ja que, al no ser gaire notable, podria ser omitit o no considerat com a Whitefish. \n",
    "\n",
    "Manualment podem comprovar quants peixos hi ha de cada espècie al nostra dataset imprimint les y. Aquí es veu clarament que el Whitefish és el menys repetit (hi ha un total de sis peixos en el dataset). "
   ]
  },
  {
   "cell_type": "code",
   "execution_count": 316,
   "metadata": {},
   "outputs": [
    {
     "data": {
      "text/plain": [
       "array(['Bream', 'Bream', 'Bream', 'Bream', 'Bream', 'Bream', 'Bream',\n",
       "       'Bream', 'Bream', 'Bream', 'Bream', 'Bream', 'Bream', 'Bream',\n",
       "       'Bream', 'Bream', 'Bream', 'Bream', 'Bream', 'Bream', 'Bream',\n",
       "       'Bream', 'Bream', 'Bream', 'Bream', 'Bream', 'Bream', 'Bream',\n",
       "       'Bream', 'Bream', 'Bream', 'Bream', 'Bream', 'Bream', 'Bream',\n",
       "       'Roach', 'Roach', 'Roach', 'Roach', 'Roach', 'Roach', 'Roach',\n",
       "       'Roach', 'Roach', 'Roach', 'Roach', 'Roach', 'Roach', 'Roach',\n",
       "       'Roach', 'Roach', 'Roach', 'Roach', 'Roach', 'Roach', 'Whitefish',\n",
       "       'Whitefish', 'Whitefish', 'Whitefish', 'Whitefish', 'Whitefish',\n",
       "       'Parkki', 'Parkki', 'Parkki', 'Parkki', 'Parkki', 'Parkki',\n",
       "       'Parkki', 'Parkki', 'Parkki', 'Parkki', 'Parkki', 'Perch', 'Perch',\n",
       "       'Perch', 'Perch', 'Perch', 'Perch', 'Perch', 'Perch', 'Perch',\n",
       "       'Perch', 'Perch', 'Perch', 'Perch', 'Perch', 'Perch', 'Perch',\n",
       "       'Perch', 'Perch', 'Perch', 'Perch', 'Perch', 'Perch', 'Perch',\n",
       "       'Perch', 'Perch', 'Perch', 'Perch', 'Perch', 'Perch', 'Perch',\n",
       "       'Perch', 'Perch', 'Perch', 'Perch', 'Perch', 'Perch', 'Perch',\n",
       "       'Perch', 'Perch', 'Perch', 'Perch', 'Perch', 'Perch', 'Perch',\n",
       "       'Perch', 'Perch', 'Perch', 'Perch', 'Perch', 'Perch', 'Perch',\n",
       "       'Perch', 'Perch', 'Perch', 'Perch', 'Perch', 'Pike', 'Pike',\n",
       "       'Pike', 'Pike', 'Pike', 'Pike', 'Pike', 'Pike', 'Pike', 'Pike',\n",
       "       'Pike', 'Pike', 'Pike', 'Pike', 'Pike', 'Pike', 'Pike', 'Smelt',\n",
       "       'Smelt', 'Smelt', 'Smelt', 'Smelt', 'Smelt', 'Smelt', 'Smelt',\n",
       "       'Smelt', 'Smelt', 'Smelt', 'Smelt', 'Smelt', 'Smelt'], dtype=object)"
      ]
     },
     "execution_count": 316,
     "metadata": {},
     "output_type": "execute_result"
    }
   ],
   "source": [
    "y"
   ]
  },
  {
   "cell_type": "markdown",
   "metadata": {},
   "source": [
    "També, per tenir millor idea del dataset i com tratar-ho, podem també imprimir els histogrames de com estan repartides les dades per espècies tant al train com al test (així ens assegurem que els dos, també, tinguin semblança entre ells)."
   ]
  },
  {
   "cell_type": "code",
   "execution_count": 317,
   "metadata": {},
   "outputs": [
    {
     "data": {
      "text/plain": [
       "(array([39., 10.,  0., 12.,  0., 14., 24.,  0.,  8.,  4.]),\n",
       " array([0. , 0.6, 1.2, 1.8, 2.4, 3. , 3.6, 4.2, 4.8, 5.4, 6. ]),\n",
       " <BarContainer object of 10 artists>)"
      ]
     },
     "execution_count": 317,
     "metadata": {},
     "output_type": "execute_result"
    },
    {
     "data": {
      "image/png": "[encoded data removed]",
      "text/plain": [
       "<Figure size 432x288 with 1 Axes>"
      ]
     },
     "metadata": {
      "needs_background": "light"
     },
     "output_type": "display_data"
    }
   ],
   "source": [
    "plt.hist(y_train)"
   ]
  },
  {
   "cell_type": "code",
   "execution_count": 318,
   "metadata": {},
   "outputs": [
    {
     "data": {
      "text/plain": [
       "(array([17.,  4.,  0., 11.,  0.,  5.,  2.,  0.,  6.,  3.]),\n",
       " array([0. , 0.6, 1.2, 1.8, 2.4, 3. , 3.6, 4.2, 4.8, 5.4, 6. ]),\n",
       " <BarContainer object of 10 artists>)"
      ]
     },
     "execution_count": 318,
     "metadata": {},
     "output_type": "execute_result"
    },
    {
     "data": {
      "image/png": "[encoded data removed]",
      "text/plain": [
       "<Figure size 432x288 with 1 Axes>"
      ]
     },
     "metadata": {
      "needs_background": "light"
     },
     "output_type": "display_data"
    }
   ],
   "source": [
    "plt.hist(y_test)"
   ]
  },
  {
   "cell_type": "markdown",
   "metadata": {},
   "source": [
    "Com que el meu objectiu és pedir una variable com la de espècies, realment el que estarem fent serà classificar els peixos a cada classe depenent de les seves característiques (sent la paraula clau classificar).\n",
    "\n",
    "Per això, si apliquem els coneixements de classe, podem veure que una de les millors maneres de fer-ho és utilitzant les funcions de One vs One i One vs Rest. \n",
    "\n",
    "Tot i que siguin solt bones maneres de classificar un dataset, es veu que en el nostre cas la funció One vs One no funcionarà molt be ja que anirà comparant entre dos espècies i si dona el cas de que no sigui cap de les dues pot arribar a classificar-ho com una de les dos que s'estan comparant i que en realitat no és l'espècie del peix que estem comparant. \n",
    "\n",
    "També serà un problema, com he dit abans, l'espècie Whitefish en aquest tipus de classificació per la falta de dades. Llavors segurament el programa classificarà els Whitefish com a un altre peix.\n",
    "\n",
    "Encara tenint aquests dos inconvenients, aquest mètode de classificació és el més adequat pel meu dataset (el de One vs Rest)."
   ]
  },
  {
   "cell_type": "code",
   "execution_count": 319,
   "metadata": {},
   "outputs": [],
   "source": [
    "def convert_dataset_to_binary_one_vs_one(x,y, positive_class, negative_class):\n",
    "    sub_x = x[(y == positive_class)|(y == negative_class)]\n",
    "    sub_y = y[(y == positive_class)|(y == negative_class)]\n",
    "    sub_y[sub_y == negative_class] = 0.0 #ja q estem tractan amb strings\n",
    "    sub_y[sub_y == positive_class] = 1.0\n",
    "    \n",
    "\n",
    "    print(f\"SIZE of dataset {len(sub_x)}, {len(sub_y)}\")\n",
    "    return sub_x, sub_y\n",
    "    \n",
    "\n",
    "def convert_dataset_to_binary_one_vs_rest(x,y, positive_class):\n",
    "    sub_y = y.copy()\n",
    "    sub_y[sub_y != positive_class] = 0.0\n",
    "    sub_y[sub_y == positive_class] = 1.0\n",
    "\n",
    "        \n",
    "    print(f\"SIZE of dataset {len(sub_y)}\")\n",
    "    return x, sub_y"
   ]
  },
  {
   "cell_type": "markdown",
   "metadata": {},
   "source": [
    "Convertim el dataset en una calssificació de One vs One (no utilitzarem més endevant pel que he dit avans) i en una classificació One vs Rest."
   ]
  },
  {
   "cell_type": "code",
   "execution_count": 320,
   "metadata": {},
   "outputs": [
    {
     "name": "stdout",
     "output_type": "stream",
     "text": [
      "SIZE of dataset 91, 91\n"
     ]
    },
    {
     "data": {
      "text/plain": [
       "(array([[242.0, 23.2, 25.4, 30.0, 11.52, 4.02],\n",
       "        [290.0, 24.0, 26.3, 31.2, 12.48, 4.3056],\n",
       "        [340.0, 23.9, 26.5, 31.1, 12.3778, 4.6961],\n",
       "        [363.0, 26.3, 29.0, 33.5, 12.73, 4.4555],\n",
       "        [430.0, 26.5, 29.0, 34.0, 12.444, 5.1339999999999995],\n",
       "        [450.0, 26.8, 29.7, 34.7, 13.6024, 4.9274],\n",
       "        [500.0, 26.8, 29.7, 34.5, 14.1795, 5.2785],\n",
       "        [390.0, 27.6, 30.0, 35.0, 12.67, 4.69],\n",
       "        [450.0, 27.6, 30.0, 35.1, 14.0049, 4.8438],\n",
       "        [500.0, 28.5, 30.7, 36.2, 14.2266, 4.9594],\n",
       "        [475.0, 28.4, 31.0, 36.2, 14.2628, 5.1042],\n",
       "        [500.0, 28.7, 31.0, 36.2, 14.3714, 4.8146],\n",
       "        [500.0, 29.1, 31.5, 36.4, 13.7592, 4.368],\n",
       "        [340.0, 29.5, 32.0, 37.3, 13.9129, 5.0728],\n",
       "        [600.0, 29.4, 32.0, 37.2, 14.9544, 5.1708],\n",
       "        [600.0, 29.4, 32.0, 37.2, 15.437999999999999, 5.58],\n",
       "        [700.0, 30.4, 33.0, 38.3, 14.8604, 5.2854],\n",
       "        [700.0, 30.4, 33.0, 38.5, 14.937999999999999, 5.1975],\n",
       "        [610.0, 30.9, 33.5, 38.6, 15.633, 5.1338],\n",
       "        [650.0, 31.0, 33.5, 38.7, 14.4738, 5.7276],\n",
       "        [575.0, 31.3, 34.0, 39.5, 15.1285, 5.5695],\n",
       "        [685.0, 31.4, 34.0, 39.2, 15.9936, 5.3704],\n",
       "        [620.0, 31.5, 34.5, 39.7, 15.5227, 5.2801],\n",
       "        [680.0, 31.8, 35.0, 40.6, 15.4686, 6.1306],\n",
       "        [700.0, 31.9, 35.0, 40.5, 16.2405, 5.5889999999999995],\n",
       "        [725.0, 31.8, 35.0, 40.9, 16.36, 6.0532],\n",
       "        [720.0, 32.0, 35.0, 40.6, 16.3618, 6.09],\n",
       "        [714.0, 32.7, 36.0, 41.5, 16.517, 5.8515],\n",
       "        [850.0, 32.8, 36.0, 41.6, 16.8896, 6.1984],\n",
       "        [1000.0, 33.5, 37.0, 42.6, 18.957, 6.603],\n",
       "        [920.0, 35.0, 38.5, 44.1, 18.0369, 6.3063],\n",
       "        [955.0, 35.0, 38.5, 44.0, 18.084, 6.292000000000001],\n",
       "        [925.0, 36.2, 39.5, 45.3, 18.7542, 6.7497],\n",
       "        [975.0, 37.4, 41.0, 45.9, 18.6354, 6.7473],\n",
       "        [950.0, 38.0, 41.0, 46.5, 17.6235, 6.3705],\n",
       "        [5.9, 7.5, 8.4, 8.8, 2.112, 1.4080000000000001],\n",
       "        [32.0, 12.5, 13.7, 14.7, 3.528, 1.9992],\n",
       "        [40.0, 13.8, 15.0, 16.0, 3.824, 2.432],\n",
       "        [51.5, 15.0, 16.2, 17.2, 4.5924, 2.6316],\n",
       "        [70.0, 15.7, 17.4, 18.5, 4.588, 2.9415],\n",
       "        [100.0, 16.2, 18.0, 19.2, 5.2224, 3.3216],\n",
       "        [78.0, 16.8, 18.7, 19.4, 5.1992, 3.1234],\n",
       "        [80.0, 17.2, 19.0, 20.2, 5.6358, 3.0502],\n",
       "        [85.0, 17.8, 19.6, 20.8, 5.1376, 3.0368],\n",
       "        [85.0, 18.2, 20.0, 21.0, 5.082, 2.772],\n",
       "        [110.0, 19.0, 21.0, 22.5, 5.6925, 3.555],\n",
       "        [115.0, 19.0, 21.0, 22.5, 5.9175, 3.3075],\n",
       "        [125.0, 19.0, 21.0, 22.5, 5.6925, 3.6675],\n",
       "        [130.0, 19.3, 21.3, 22.8, 6.3839999999999995, 3.534],\n",
       "        [120.0, 20.0, 22.0, 23.5, 6.11, 3.4075],\n",
       "        [120.0, 20.0, 22.0, 23.5, 5.64, 3.525],\n",
       "        [130.0, 20.0, 22.0, 23.5, 6.11, 3.525],\n",
       "        [135.0, 20.0, 22.0, 23.5, 5.875, 3.525],\n",
       "        [110.0, 20.0, 22.0, 23.5, 5.5225, 3.995],\n",
       "        [130.0, 20.5, 22.5, 24.0, 5.856, 3.6239999999999997],\n",
       "        [150.0, 20.5, 22.5, 24.0, 6.792000000000001, 3.6239999999999997],\n",
       "        [145.0, 20.7, 22.7, 24.2, 5.9532, 3.63],\n",
       "        [150.0, 21.0, 23.0, 24.5, 5.2185, 3.6260000000000003],\n",
       "        [170.0, 21.5, 23.5, 25.0, 6.275, 3.725],\n",
       "        [225.0, 22.0, 24.0, 25.5, 7.292999999999999, 3.7230000000000003],\n",
       "        [145.0, 22.0, 24.0, 25.5, 6.375, 3.825],\n",
       "        [188.0, 22.6, 24.6, 26.2, 6.7334, 4.1658],\n",
       "        [180.0, 23.0, 25.0, 26.5, 6.4395, 3.6835],\n",
       "        [197.0, 23.5, 25.6, 27.0, 6.561, 4.239],\n",
       "        [218.0, 25.0, 26.5, 28.0, 7.167999999999999, 4.144],\n",
       "        [300.0, 25.2, 27.3, 28.7, 8.323, 5.1373],\n",
       "        [260.0, 25.4, 27.5, 28.9, 7.1672, 4.335],\n",
       "        [265.0, 25.4, 27.5, 28.9, 7.0516, 4.335],\n",
       "        [250.0, 25.4, 27.5, 28.9, 7.2828, 4.5662],\n",
       "        [250.0, 25.9, 28.0, 29.4, 7.8204, 4.2042],\n",
       "        [300.0, 26.9, 28.7, 30.1, 7.5852, 4.6354],\n",
       "        [320.0, 27.8, 30.0, 31.6, 7.6156, 4.7716],\n",
       "        [514.0, 30.5, 32.8, 34.0, 10.03, 6.018],\n",
       "        [556.0, 32.0, 34.5, 36.5, 10.2565, 6.3875],\n",
       "        [840.0, 32.5, 35.0, 37.3, 11.4884, 7.7957],\n",
       "        [685.0, 34.0, 36.5, 39.0, 10.880999999999998, 6.864],\n",
       "        [700.0, 34.0, 36.0, 38.3, 10.6091, 6.7408],\n",
       "        [700.0, 34.5, 37.0, 39.4, 10.835, 6.2646],\n",
       "        [690.0, 34.6, 37.0, 39.3, 10.5717, 6.3666],\n",
       "        [900.0, 36.5, 39.0, 41.4, 11.1366, 7.4934],\n",
       "        [650.0, 36.5, 39.0, 41.4, 11.1366, 6.002999999999999],\n",
       "        [820.0, 36.6, 39.0, 41.3, 12.4313, 7.3514],\n",
       "        [850.0, 36.9, 40.0, 42.3, 11.9286, 7.1064],\n",
       "        [900.0, 37.0, 40.0, 42.5, 11.73, 7.225],\n",
       "        [1015.0, 37.0, 40.0, 42.4, 12.3808, 7.4624],\n",
       "        [820.0, 37.1, 40.0, 42.5, 11.135, 6.63],\n",
       "        [1100.0, 39.0, 42.0, 44.6, 12.8002, 6.8684],\n",
       "        [1000.0, 39.8, 43.0, 45.2, 11.9328, 7.2772],\n",
       "        [1100.0, 40.1, 43.0, 45.5, 12.5125, 7.4165],\n",
       "        [1000.0, 40.2, 43.5, 46.0, 12.604000000000001, 8.142000000000001],\n",
       "        [1000.0, 41.1, 44.0, 46.6, 12.4888, 7.5958]], dtype=object),\n",
       " array([1.0, 1.0, 1.0, 1.0, 1.0, 1.0, 1.0, 1.0, 1.0, 1.0, 1.0, 1.0, 1.0,\n",
       "        1.0, 1.0, 1.0, 1.0, 1.0, 1.0, 1.0, 1.0, 1.0, 1.0, 1.0, 1.0, 1.0,\n",
       "        1.0, 1.0, 1.0, 1.0, 1.0, 1.0, 1.0, 1.0, 1.0, 0.0, 0.0, 0.0, 0.0,\n",
       "        0.0, 0.0, 0.0, 0.0, 0.0, 0.0, 0.0, 0.0, 0.0, 0.0, 0.0, 0.0, 0.0,\n",
       "        0.0, 0.0, 0.0, 0.0, 0.0, 0.0, 0.0, 0.0, 0.0, 0.0, 0.0, 0.0, 0.0,\n",
       "        0.0, 0.0, 0.0, 0.0, 0.0, 0.0, 0.0, 0.0, 0.0, 0.0, 0.0, 0.0, 0.0,\n",
       "        0.0, 0.0, 0.0, 0.0, 0.0, 0.0, 0.0, 0.0, 0.0, 0.0, 0.0, 0.0, 0.0],\n",
       "       dtype=object))"
      ]
     },
     "execution_count": 320,
     "metadata": {},
     "output_type": "execute_result"
    }
   ],
   "source": [
    "convert_dataset_to_binary_one_vs_one(x,y, 'Bream', 'Perch')"
   ]
  },
  {
   "cell_type": "code",
   "execution_count": 321,
   "metadata": {},
   "outputs": [
    {
     "name": "stdout",
     "output_type": "stream",
     "text": [
      "SIZE of dataset 159\n"
     ]
    },
    {
     "data": {
      "text/plain": [
       "(array([[242.0, 23.2, 25.4, 30.0, 11.52, 4.02],\n",
       "        [290.0, 24.0, 26.3, 31.2, 12.48, 4.3056],\n",
       "        [340.0, 23.9, 26.5, 31.1, 12.3778, 4.6961],\n",
       "        [363.0, 26.3, 29.0, 33.5, 12.73, 4.4555],\n",
       "        [430.0, 26.5, 29.0, 34.0, 12.444, 5.1339999999999995],\n",
       "        [450.0, 26.8, 29.7, 34.7, 13.6024, 4.9274],\n",
       "        [500.0, 26.8, 29.7, 34.5, 14.1795, 5.2785],\n",
       "        [390.0, 27.6, 30.0, 35.0, 12.67, 4.69],\n",
       "        [450.0, 27.6, 30.0, 35.1, 14.0049, 4.8438],\n",
       "        [500.0, 28.5, 30.7, 36.2, 14.2266, 4.9594],\n",
       "        [475.0, 28.4, 31.0, 36.2, 14.2628, 5.1042],\n",
       "        [500.0, 28.7, 31.0, 36.2, 14.3714, 4.8146],\n",
       "        [500.0, 29.1, 31.5, 36.4, 13.7592, 4.368],\n",
       "        [340.0, 29.5, 32.0, 37.3, 13.9129, 5.0728],\n",
       "        [600.0, 29.4, 32.0, 37.2, 14.9544, 5.1708],\n",
       "        [600.0, 29.4, 32.0, 37.2, 15.437999999999999, 5.58],\n",
       "        [700.0, 30.4, 33.0, 38.3, 14.8604, 5.2854],\n",
       "        [700.0, 30.4, 33.0, 38.5, 14.937999999999999, 5.1975],\n",
       "        [610.0, 30.9, 33.5, 38.6, 15.633, 5.1338],\n",
       "        [650.0, 31.0, 33.5, 38.7, 14.4738, 5.7276],\n",
       "        [575.0, 31.3, 34.0, 39.5, 15.1285, 5.5695],\n",
       "        [685.0, 31.4, 34.0, 39.2, 15.9936, 5.3704],\n",
       "        [620.0, 31.5, 34.5, 39.7, 15.5227, 5.2801],\n",
       "        [680.0, 31.8, 35.0, 40.6, 15.4686, 6.1306],\n",
       "        [700.0, 31.9, 35.0, 40.5, 16.2405, 5.5889999999999995],\n",
       "        [725.0, 31.8, 35.0, 40.9, 16.36, 6.0532],\n",
       "        [720.0, 32.0, 35.0, 40.6, 16.3618, 6.09],\n",
       "        [714.0, 32.7, 36.0, 41.5, 16.517, 5.8515],\n",
       "        [850.0, 32.8, 36.0, 41.6, 16.8896, 6.1984],\n",
       "        [1000.0, 33.5, 37.0, 42.6, 18.957, 6.603],\n",
       "        [920.0, 35.0, 38.5, 44.1, 18.0369, 6.3063],\n",
       "        [955.0, 35.0, 38.5, 44.0, 18.084, 6.292000000000001],\n",
       "        [925.0, 36.2, 39.5, 45.3, 18.7542, 6.7497],\n",
       "        [975.0, 37.4, 41.0, 45.9, 18.6354, 6.7473],\n",
       "        [950.0, 38.0, 41.0, 46.5, 17.6235, 6.3705],\n",
       "        [40.0, 12.9, 14.1, 16.2, 4.1472, 2.2680000000000002],\n",
       "        [69.0, 16.5, 18.2, 20.3, 5.2983, 2.8217],\n",
       "        [78.0, 17.5, 18.8, 21.2, 5.5756, 2.9044],\n",
       "        [87.0, 18.2, 19.8, 22.2, 5.6166, 3.1746],\n",
       "        [120.0, 18.6, 20.0, 22.2, 6.216, 3.5742],\n",
       "        [0.0, 19.0, 20.5, 22.8, 6.4752, 3.3516],\n",
       "        [110.0, 19.1, 20.8, 23.1, 6.1677, 3.3957],\n",
       "        [120.0, 19.4, 21.0, 23.7, 6.1146, 3.2943],\n",
       "        [150.0, 20.4, 22.0, 24.7, 5.8045, 3.7544],\n",
       "        [145.0, 20.5, 22.0, 24.3, 6.6339, 3.5478],\n",
       "        [160.0, 20.5, 22.5, 25.3, 7.0334, 3.8203],\n",
       "        [140.0, 21.0, 22.5, 25.0, 6.55, 3.325],\n",
       "        [160.0, 21.1, 22.5, 25.0, 6.4, 3.8],\n",
       "        [169.0, 22.0, 24.0, 27.2, 7.5344, 3.8352],\n",
       "        [161.0, 22.0, 23.4, 26.7, 6.9153, 3.6312],\n",
       "        [200.0, 22.1, 23.5, 26.8, 7.3968, 4.1272],\n",
       "        [180.0, 23.6, 25.2, 27.9, 7.0866, 3.906],\n",
       "        [290.0, 24.0, 26.0, 29.2, 8.8768, 4.4968],\n",
       "        [272.0, 25.0, 27.0, 30.6, 8.568, 4.7736],\n",
       "        [390.0, 29.5, 31.7, 35.0, 9.485, 5.355],\n",
       "        [270.0, 23.6, 26.0, 28.7, 8.3804, 4.2476],\n",
       "        [270.0, 24.1, 26.5, 29.3, 8.1454, 4.2485],\n",
       "        [306.0, 25.6, 28.0, 30.8, 8.777999999999999, 4.6816],\n",
       "        [540.0, 28.5, 31.0, 34.0, 10.744000000000002, 6.562],\n",
       "        [800.0, 33.7, 36.4, 39.6, 11.7612, 6.5736],\n",
       "        [1000.0, 37.3, 40.0, 43.5, 12.354000000000001, 6.525],\n",
       "        [55.0, 13.5, 14.7, 16.5, 6.8475, 2.3265],\n",
       "        [60.0, 14.3, 15.5, 17.4, 6.5772, 2.3142],\n",
       "        [90.0, 16.3, 17.7, 19.8, 7.4052, 2.673],\n",
       "        [120.0, 17.5, 19.0, 21.3, 8.3922, 2.9181],\n",
       "        [150.0, 18.4, 20.0, 22.4, 8.8928, 3.2928],\n",
       "        [140.0, 19.0, 20.7, 23.2, 8.5376, 3.2944],\n",
       "        [170.0, 19.0, 20.7, 23.2, 9.396, 3.4104],\n",
       "        [145.0, 19.8, 21.5, 24.1, 9.7364, 3.1571],\n",
       "        [200.0, 21.2, 23.0, 25.8, 10.3458, 3.6636],\n",
       "        [273.0, 23.0, 25.0, 28.0, 11.088, 4.144],\n",
       "        [300.0, 24.0, 26.0, 29.0, 11.368, 4.234],\n",
       "        [5.9, 7.5, 8.4, 8.8, 2.112, 1.4080000000000001],\n",
       "        [32.0, 12.5, 13.7, 14.7, 3.528, 1.9992],\n",
       "        [40.0, 13.8, 15.0, 16.0, 3.824, 2.432],\n",
       "        [51.5, 15.0, 16.2, 17.2, 4.5924, 2.6316],\n",
       "        [70.0, 15.7, 17.4, 18.5, 4.588, 2.9415],\n",
       "        [100.0, 16.2, 18.0, 19.2, 5.2224, 3.3216],\n",
       "        [78.0, 16.8, 18.7, 19.4, 5.1992, 3.1234],\n",
       "        [80.0, 17.2, 19.0, 20.2, 5.6358, 3.0502],\n",
       "        [85.0, 17.8, 19.6, 20.8, 5.1376, 3.0368],\n",
       "        [85.0, 18.2, 20.0, 21.0, 5.082, 2.772],\n",
       "        [110.0, 19.0, 21.0, 22.5, 5.6925, 3.555],\n",
       "        [115.0, 19.0, 21.0, 22.5, 5.9175, 3.3075],\n",
       "        [125.0, 19.0, 21.0, 22.5, 5.6925, 3.6675],\n",
       "        [130.0, 19.3, 21.3, 22.8, 6.3839999999999995, 3.534],\n",
       "        [120.0, 20.0, 22.0, 23.5, 6.11, 3.4075],\n",
       "        [120.0, 20.0, 22.0, 23.5, 5.64, 3.525],\n",
       "        [130.0, 20.0, 22.0, 23.5, 6.11, 3.525],\n",
       "        [135.0, 20.0, 22.0, 23.5, 5.875, 3.525],\n",
       "        [110.0, 20.0, 22.0, 23.5, 5.5225, 3.995],\n",
       "        [130.0, 20.5, 22.5, 24.0, 5.856, 3.6239999999999997],\n",
       "        [150.0, 20.5, 22.5, 24.0, 6.792000000000001, 3.6239999999999997],\n",
       "        [145.0, 20.7, 22.7, 24.2, 5.9532, 3.63],\n",
       "        [150.0, 21.0, 23.0, 24.5, 5.2185, 3.6260000000000003],\n",
       "        [170.0, 21.5, 23.5, 25.0, 6.275, 3.725],\n",
       "        [225.0, 22.0, 24.0, 25.5, 7.292999999999999, 3.7230000000000003],\n",
       "        [145.0, 22.0, 24.0, 25.5, 6.375, 3.825],\n",
       "        [188.0, 22.6, 24.6, 26.2, 6.7334, 4.1658],\n",
       "        [180.0, 23.0, 25.0, 26.5, 6.4395, 3.6835],\n",
       "        [197.0, 23.5, 25.6, 27.0, 6.561, 4.239],\n",
       "        [218.0, 25.0, 26.5, 28.0, 7.167999999999999, 4.144],\n",
       "        [300.0, 25.2, 27.3, 28.7, 8.323, 5.1373],\n",
       "        [260.0, 25.4, 27.5, 28.9, 7.1672, 4.335],\n",
       "        [265.0, 25.4, 27.5, 28.9, 7.0516, 4.335],\n",
       "        [250.0, 25.4, 27.5, 28.9, 7.2828, 4.5662],\n",
       "        [250.0, 25.9, 28.0, 29.4, 7.8204, 4.2042],\n",
       "        [300.0, 26.9, 28.7, 30.1, 7.5852, 4.6354],\n",
       "        [320.0, 27.8, 30.0, 31.6, 7.6156, 4.7716],\n",
       "        [514.0, 30.5, 32.8, 34.0, 10.03, 6.018],\n",
       "        [556.0, 32.0, 34.5, 36.5, 10.2565, 6.3875],\n",
       "        [840.0, 32.5, 35.0, 37.3, 11.4884, 7.7957],\n",
       "        [685.0, 34.0, 36.5, 39.0, 10.880999999999998, 6.864],\n",
       "        [700.0, 34.0, 36.0, 38.3, 10.6091, 6.7408],\n",
       "        [700.0, 34.5, 37.0, 39.4, 10.835, 6.2646],\n",
       "        [690.0, 34.6, 37.0, 39.3, 10.5717, 6.3666],\n",
       "        [900.0, 36.5, 39.0, 41.4, 11.1366, 7.4934],\n",
       "        [650.0, 36.5, 39.0, 41.4, 11.1366, 6.002999999999999],\n",
       "        [820.0, 36.6, 39.0, 41.3, 12.4313, 7.3514],\n",
       "        [850.0, 36.9, 40.0, 42.3, 11.9286, 7.1064],\n",
       "        [900.0, 37.0, 40.0, 42.5, 11.73, 7.225],\n",
       "        [1015.0, 37.0, 40.0, 42.4, 12.3808, 7.4624],\n",
       "        [820.0, 37.1, 40.0, 42.5, 11.135, 6.63],\n",
       "        [1100.0, 39.0, 42.0, 44.6, 12.8002, 6.8684],\n",
       "        [1000.0, 39.8, 43.0, 45.2, 11.9328, 7.2772],\n",
       "        [1100.0, 40.1, 43.0, 45.5, 12.5125, 7.4165],\n",
       "        [1000.0, 40.2, 43.5, 46.0, 12.604000000000001, 8.142000000000001],\n",
       "        [1000.0, 41.1, 44.0, 46.6, 12.4888, 7.5958],\n",
       "        [200.0, 30.0, 32.3, 34.8, 5.568, 3.3756],\n",
       "        [300.0, 31.7, 34.0, 37.8, 5.7078, 4.158],\n",
       "        [300.0, 32.7, 35.0, 38.8, 5.9364, 4.3844],\n",
       "        [300.0, 34.8, 37.3, 39.8, 6.2884, 4.0198],\n",
       "        [430.0, 35.5, 38.0, 40.5, 7.29, 4.5765],\n",
       "        [345.0, 36.0, 38.5, 41.0, 6.396, 3.977],\n",
       "        [456.0, 40.0, 42.5, 45.5, 7.28, 4.3225],\n",
       "        [510.0, 40.0, 42.5, 45.5, 6.825, 4.459],\n",
       "        [540.0, 40.1, 43.0, 45.8, 7.7860000000000005, 5.1296],\n",
       "        [500.0, 42.0, 45.0, 48.0, 6.96, 4.896],\n",
       "        [567.0, 43.2, 46.0, 48.7, 7.792000000000001, 4.87],\n",
       "        [770.0, 44.8, 48.0, 51.2, 7.68, 5.376],\n",
       "        [950.0, 48.3, 51.7, 55.1, 8.9262, 6.1712],\n",
       "        [1250.0, 52.0, 56.0, 59.7, 10.6863, 6.9849],\n",
       "        [1600.0, 56.0, 60.0, 64.0, 9.6, 6.144],\n",
       "        [1550.0, 56.0, 60.0, 64.0, 9.6, 6.144],\n",
       "        [1650.0, 59.0, 63.4, 68.0, 10.812000000000001, 7.48],\n",
       "        [6.7, 9.3, 9.8, 10.8, 1.7388, 1.0476],\n",
       "        [7.5, 10.0, 10.5, 11.6, 1.972, 1.16],\n",
       "        [7.0, 10.1, 10.6, 11.6, 1.7284, 1.1484],\n",
       "        [9.7, 10.4, 11.0, 12.0, 2.1959999999999997, 1.38],\n",
       "        [9.8, 10.7, 11.2, 12.4, 2.0832, 1.2772],\n",
       "        [8.7, 10.8, 11.3, 12.6, 1.9782, 1.2852],\n",
       "        [10.0, 11.3, 11.8, 13.1, 2.2139, 1.2838],\n",
       "        [9.9, 11.3, 11.8, 13.1, 2.2139, 1.1659],\n",
       "        [9.8, 11.4, 12.0, 13.2, 2.2044, 1.1484],\n",
       "        [12.2, 11.5, 12.2, 13.4, 2.0904, 1.3936],\n",
       "        [13.4, 11.7, 12.4, 13.5, 2.43, 1.2690000000000001],\n",
       "        [12.2, 12.1, 13.0, 13.8, 2.2769999999999997, 1.2558],\n",
       "        [19.7, 13.2, 14.3, 15.2, 2.8728, 2.0672],\n",
       "        [19.9, 13.8, 15.0, 16.2, 2.9322, 1.8792]], dtype=object),\n",
       " array([1.0, 1.0, 1.0, 1.0, 1.0, 1.0, 1.0, 1.0, 1.0, 1.0, 1.0, 1.0, 1.0,\n",
       "        1.0, 1.0, 1.0, 1.0, 1.0, 1.0, 1.0, 1.0, 1.0, 1.0, 1.0, 1.0, 1.0,\n",
       "        1.0, 1.0, 1.0, 1.0, 1.0, 1.0, 1.0, 1.0, 1.0, 0.0, 0.0, 0.0, 0.0,\n",
       "        0.0, 0.0, 0.0, 0.0, 0.0, 0.0, 0.0, 0.0, 0.0, 0.0, 0.0, 0.0, 0.0,\n",
       "        0.0, 0.0, 0.0, 0.0, 0.0, 0.0, 0.0, 0.0, 0.0, 0.0, 0.0, 0.0, 0.0,\n",
       "        0.0, 0.0, 0.0, 0.0, 0.0, 0.0, 0.0, 0.0, 0.0, 0.0, 0.0, 0.0, 0.0,\n",
       "        0.0, 0.0, 0.0, 0.0, 0.0, 0.0, 0.0, 0.0, 0.0, 0.0, 0.0, 0.0, 0.0,\n",
       "        0.0, 0.0, 0.0, 0.0, 0.0, 0.0, 0.0, 0.0, 0.0, 0.0, 0.0, 0.0, 0.0,\n",
       "        0.0, 0.0, 0.0, 0.0, 0.0, 0.0, 0.0, 0.0, 0.0, 0.0, 0.0, 0.0, 0.0,\n",
       "        0.0, 0.0, 0.0, 0.0, 0.0, 0.0, 0.0, 0.0, 0.0, 0.0, 0.0, 0.0, 0.0,\n",
       "        0.0, 0.0, 0.0, 0.0, 0.0, 0.0, 0.0, 0.0, 0.0, 0.0, 0.0, 0.0, 0.0,\n",
       "        0.0, 0.0, 0.0, 0.0, 0.0, 0.0, 0.0, 0.0, 0.0, 0.0, 0.0, 0.0, 0.0,\n",
       "        0.0, 0.0, 0.0], dtype=object))"
      ]
     },
     "execution_count": 321,
     "metadata": {},
     "output_type": "execute_result"
    }
   ],
   "source": [
    "convert_dataset_to_binary_one_vs_rest(x, y, 'Bream')"
   ]
  },
  {
   "cell_type": "code",
   "execution_count": 322,
   "metadata": {},
   "outputs": [
    {
     "name": "stdout",
     "output_type": "stream",
     "text": [
      "['Bream' 'Parkki' 'Perch' 'Pike' 'Roach' 'Smelt' 'Whitefish']\n"
     ]
    }
   ],
   "source": [
    "fishes = np.array(y)\n",
    "fishes = np.unique(fishes)\n",
    "print(fishes)"
   ]
  },
  {
   "cell_type": "markdown",
   "metadata": {},
   "source": [
    "He provat de modelar el dataset de tres formes diferents (seguint el mateix patró) per veure quina era millor."
   ]
  },
  {
   "cell_type": "markdown",
   "metadata": {},
   "source": [
    "## 2.1  MODEL 1"
   ]
  },
  {
   "cell_type": "markdown",
   "metadata": {},
   "source": [
    "En aquest primer model començarem declarant una x i una y local utilitzant la funció classificadora One vs Rest a partir de les dades del train (en el cas de quan estiguem treballant amb el train) i amb les dades del test (en el cas de quan estem treballant amb el test). \n",
    "\n",
    "Un cop fet això, farem una regressió logística per a cada un dels peixos i mirarem per a cada peix la seva probabilitat (només ens interessqa la probabilitat de que sigui un). Cada una de les files de la matriu de probabilitats és un peix i cada columna és la classe. El número de la columna que tingui la probabilitat més alta doncs serà el peix que és. \n",
    "\n",
    "Veiem que fent això l'accuracy és molt alta, però que la classe 6 valora que no hi ha cap peix Whitefish (com hem predit abans), així que haurem de fer un model que tingui pesos per a que els classifiqui. \n",
    "\n",
    "En el nostre dataset, guiar-nos per l'accuracy no ens serveix molt. Però sí que ens serveix estudiar el F1-score, que ens mostrarà si hi ha alguna classe que el nostre model no acaba de predir be. \n",
    "\n",
    "En aquest cas, el F1-score de la majoria de classes (espècies) es froça bo, pero si ens fixem en el del Whitefish ens adonem que es nul. \n",
    "\n",
    "Això es un greu problema ja que no ens està classificant cap peix com a Whitefish. Haurem de, doncs, trobar alguna forma de fer que el nostre model els predigui. "
   ]
  },
  {
   "cell_type": "code",
   "execution_count": 323,
   "metadata": {},
   "outputs": [
    {
     "name": "stdout",
     "output_type": "stream",
     "text": [
      "SIZE of dataset 111\n",
      "SIZE of dataset 111\n",
      "SIZE of dataset 111\n",
      "SIZE of dataset 111\n",
      "SIZE of dataset 111\n",
      "SIZE of dataset 111\n",
      "SIZE of dataset 111\n",
      "ACCURACY TRAIN 0.963963963963964\n",
      "ACCURACY TEST: 0.8541666666666666\n",
      "Classification report:\n",
      "                precision    recall  f1-score   support\n",
      "\n",
      "       Bream       1.00      1.00      1.00        11\n",
      "      Parkki       1.00      1.00      1.00         3\n",
      "       Perch       0.80      0.94      0.86        17\n",
      "        Pike       1.00      0.60      0.75         5\n",
      "       Roach       0.67      0.67      0.67         6\n",
      "       Smelt       0.80      1.00      0.89         4\n",
      "   Whitefish       0.00      0.00      0.00         2\n",
      "\n",
      "    accuracy                           0.85        48\n",
      "   macro avg       0.75      0.74      0.74        48\n",
      "weighted avg       0.83      0.85      0.83        48\n",
      "\n"
     ]
    }
   ],
   "source": [
    "from sklearn.linear_model import LogisticRegression\n",
    "from sklearn.metrics import accuracy_score\n",
    "from sklearn.metrics import classification_report\n",
    "\n",
    "models = []\n",
    "for fish in fishes: \n",
    "    x_local, y_local = convert_dataset_to_binary_one_vs_rest(x_train, y_train, fish)\n",
    "    y_local = y_local.astype(int)\n",
    "    model = LogisticRegression(random_state = 27).fit(x_local, y_local)\n",
    "    models.append(model)\n",
    "    \n",
    "\n",
    "probabilitats = []\n",
    "for i in range(len(fishes)): \n",
    "    prob = models[i].predict_proba(x_train)\n",
    "    probabilitats.append(prob[:,1])\n",
    "probabilitats = np.array(probabilitats)  \n",
    "probabilitats = np.transpose(probabilitats)\n",
    "\n",
    "maxim = np.argmax(probabilitats, axis = 1) \n",
    "print(\"ACCURACY TRAIN\",accuracy_score(y_train, fishes[maxim]))\n",
    "\n",
    "\n",
    "#CAS TEST\n",
    "probabilitats = []\n",
    "for i in range(len(fishes)): \n",
    "    prob = models[i].predict_proba(x_test)\n",
    "    probabilitats.append(prob[:,1])\n",
    "probabilitats = np.array(probabilitats)  \n",
    "probabilitats = np.transpose(probabilitats)\n",
    "\n",
    "maxim = np.argmax(probabilitats, axis = 1) \n",
    "print(\"ACCURACY TEST:\",accuracy_score(y_test, fishes[maxim]))\n",
    "\n",
    "\n",
    "classification = classification_report(y_test, fishes[maxim])\n",
    "print(\"Classification report:\\n \", classification)"
   ]
  },
  {
   "cell_type": "markdown",
   "metadata": {},
   "source": [
    "## 2.2 MODEL 2"
   ]
  },
  {
   "cell_type": "markdown",
   "metadata": {},
   "source": [
    "Aquest model és pràcticament exactament igual al Model 1, l'únic diferent es que per intentar resoldre el problema de la classificació del Whitefish a l'hora de fer la Regressió Logística apliquem pesos. \n",
    "\n",
    "Fer-ho d'aquesta manera millora el F1-score del Whitefish (ja no és NUL) però altres classes (com es el cas del Pike i Roach) empitjoren. \n",
    "\n",
    "Llavors el Model 2 és una solució a considerar però que només millora pel Whitefish. Hauriem de trobar un millor model que no només millorés el F1-score del Whitefish, sinó que impideix que empitjorin les altres classes."
   ]
  },
  {
   "cell_type": "code",
   "execution_count": 324,
   "metadata": {},
   "outputs": [
    {
     "name": "stdout",
     "output_type": "stream",
     "text": [
      "SIZE of dataset 111\n",
      "SIZE of dataset 111\n",
      "SIZE of dataset 111\n",
      "SIZE of dataset 111\n",
      "SIZE of dataset 111\n",
      "SIZE of dataset 111\n",
      "SIZE of dataset 111\n",
      "ACCURACY TRAIN: 1.0\n",
      "ACCURACY TEST: 0.8541666666666666\n",
      "Classification report:\n",
      "                precision    recall  f1-score   support\n",
      "\n",
      "       Bream       1.00      0.91      0.95        11\n",
      "      Parkki       1.00      1.00      1.00         3\n",
      "       Perch       1.00      0.94      0.97        17\n",
      "        Pike       1.00      0.40      0.57         5\n",
      "       Roach       0.50      0.67      0.57         6\n",
      "       Smelt       0.80      1.00      0.89         4\n",
      "   Whitefish       0.50      1.00      0.67         2\n",
      "\n",
      "    accuracy                           0.85        48\n",
      "   macro avg       0.83      0.85      0.80        48\n",
      "weighted avg       0.90      0.85      0.86        48\n",
      "\n"
     ]
    }
   ],
   "source": [
    "from sklearn.linear_model import LogisticRegression\n",
    "from sklearn.metrics import accuracy_score\n",
    "from sklearn.metrics import classification_report\n",
    "\n",
    "models = []\n",
    "for fish in fishes: \n",
    "    x_local, y_local = convert_dataset_to_binary_one_vs_rest(x_train, y_train, fish)\n",
    "    y_local = y_local.astype(int)\n",
    "    model = LogisticRegression(random_state = 27, class_weight = \"balanced\").fit(x_local, y_local)\n",
    "    models.append(model)\n",
    "    \n",
    "\n",
    "probabilitats = []\n",
    "for i in range(len(fishes)): \n",
    "    prob = models[i].predict_proba(x_train)\n",
    "    probabilitats.append(prob[:,1])\n",
    "probabilitats = np.array(probabilitats)  \n",
    "probabilitats = np.transpose(probabilitats)\n",
    "\n",
    "maxim = np.argmax(probabilitats, axis = 1) \n",
    "print(\"ACCURACY TRAIN:\", accuracy_score(y_train, fishes[maxim]))\n",
    "\n",
    "\n",
    "#CAS TEST\n",
    "probabilitats = []\n",
    "for i in range(len(fishes)): \n",
    "    prob = models[i].predict_proba(x_test)\n",
    "    probabilitats.append(prob[:,1])\n",
    "probabilitats = np.array(probabilitats)  \n",
    "probabilitats = np.transpose(probabilitats)\n",
    "\n",
    "maxim = np.argmax(probabilitats, axis = 1) \n",
    "\n",
    "\n",
    "print(\"ACCURACY TEST:\",accuracy_score(y_test, fishes[maxim]))\n",
    " \n",
    "classification = classification_report(y_test, fishes[maxim])\n",
    "print(\"Classification report:\\n \", classification)\n",
    "    "
   ]
  },
  {
   "cell_type": "markdown",
   "metadata": {},
   "source": [
    "## 2.3 MODEL 3"
   ]
  },
  {
   "cell_type": "markdown",
   "metadata": {},
   "source": [
    "Sabem que l'espècie que ens dona problemes és Whitefish, i quan apliquem la solució dels pesos, les espècies amb el F1-score més baix a part de la citada prèviament son Roach i Pike. \n",
    "\n",
    "A partir d'això, una solució possible és \"classificar la classificació\". És a dir, fer un subconjunt dintre de les nostres opcions. \n",
    "\n",
    "Així doncs, farem cinc classes (d'espècies) diferents en comtpes de les 7 inicials que teniem. Les espècies que mantindrem seran les que tenen el F1-score més alt en el model anterior (que son Bream, Parkki, Perch i Smelt). Però les altres tres classes que ens donen més problemes les ajuntarem en una única classe (o espècie) anomenada Other fishes. \n",
    "\n",
    "Al principi del model, el que farem serà distribuïr les dades a corde a aquesta nova distribució i, per assegurar-nos de que tot estigui be, farem un contador de classes per comprovar que no ens hem deixat fora cap peix i que el número de peixos en Other fishes tingui sentit. "
   ]
  },
  {
   "cell_type": "code",
   "execution_count": 325,
   "metadata": {},
   "outputs": [
    {
     "name": "stdout",
     "output_type": "stream",
     "text": [
      "{'Perch': 39, 'Smelt': 10, 'Other fishes': 30, 'Bream': 24, 'Parkki': 8}\n",
      "{'Pike': 12, 'Roach': 14, 'Whitefish': 4}\n"
     ]
    }
   ],
   "source": [
    "'''\n",
    "y -> y1 (mateixa mida - 159) \n",
    "primer_classsificator = ['Bream', 'Parkki', 'Perch', 'Smelt', 'Other fishes'] # Classificador més general, les pitjors classes les ajuntem en un Others\n",
    "y -> y2 (més petita, ja que només conté les classes minoritàries - 43)\n",
    "segon_classificator = ['Roach', 'Pike', 'Whitefish'] # Només entrenat per distingir entre Roach, Pike i Whitefish\n",
    "'''\n",
    "y1 = y_train.copy()\n",
    "y1[y1 == 'Roach'] = 'Other fishes'\n",
    "y1[y1 == 'Pike'] = 'Other fishes'\n",
    "y1[y1 == 'Whitefish'] = 'Other fishes'\n",
    "\n",
    "index1 = y_train == 'Pike'\n",
    "index2 = y_train == 'Roach'\n",
    "index3 = y_train == 'Whitefish'\n",
    "indexs = np.concatenate([[index1], [index2], [index3]])\n",
    "index = np.ndarray((len(y_train),))\n",
    "np.any(indexs, axis=0, out=index)\n",
    "index = np.array(index, dtype=np.bool)\n",
    "y2 = y_train[index]\n",
    "x2 = x_train[index]\n",
    "\n",
    "\n",
    "#Contador \n",
    "count = {}\n",
    "for fish in y1:\n",
    "    if fish in count:\n",
    "        count[fish] += 1\n",
    "    else:\n",
    "        count[fish] = 1\n",
    "print(count)\n",
    "\n",
    "count = {}\n",
    "for fish in y2:\n",
    "    if fish in count:\n",
    "        count[fish] += 1\n",
    "    else:\n",
    "        count[fish] = 1\n",
    "print(count)"
   ]
  },
  {
   "cell_type": "code",
   "execution_count": 326,
   "metadata": {},
   "outputs": [
    {
     "name": "stdout",
     "output_type": "stream",
     "text": [
      "['Perch' 'Perch' 'Perch' 'Smelt' 'Other fishes' 'Perch' 'Perch' 'Bream'\n",
      " 'Perch' 'Smelt' 'Bream' 'Perch' 'Other fishes' 'Bream' 'Smelt' 'Bream'\n",
      " 'Bream' 'Perch' 'Perch' 'Perch' 'Perch' 'Perch' 'Smelt' 'Perch' 'Perch'\n",
      " 'Bream' 'Perch' 'Perch' 'Other fishes' 'Other fishes' 'Perch' 'Smelt'\n",
      " 'Smelt' 'Other fishes' 'Other fishes' 'Perch' 'Bream' 'Perch' 'Perch'\n",
      " 'Other fishes' 'Smelt' 'Perch' 'Perch' 'Smelt' 'Perch' 'Bream' 'Perch'\n",
      " 'Perch' 'Perch' 'Perch' 'Perch' 'Bream' 'Bream' 'Other fishes' 'Perch'\n",
      " 'Other fishes' 'Perch' 'Bream' 'Bream' 'Bream' 'Perch' 'Perch' 'Bream'\n",
      " 'Perch' 'Bream' 'Other fishes' 'Perch' 'Bream' 'Perch' 'Perch' 'Perch'\n",
      " 'Perch' 'Bream' 'Perch' 'Perch' 'Perch' 'Other fishes' 'Perch' 'Perch'\n",
      " 'Perch' 'Perch' 'Perch' 'Smelt' 'Perch' 'Other fishes' 'Perch' 'Bream'\n",
      " 'Perch' 'Perch' 'Perch' 'Perch' 'Other fishes' 'Other fishes' 'Smelt'\n",
      " 'Bream' 'Smelt' 'Bream' 'Perch' 'Bream' 'Perch' 'Perch' 'Perch' 'Perch'\n",
      " 'Perch' 'Perch' 'Perch' 'Bream' 'Other fishes' 'Perch' 'Bream' 'Perch']\n",
      "0.7657657657657657\n"
     ]
    }
   ],
   "source": [
    "model = LogisticRegression(random_state = 27).fit(x_train, y1)\n",
    "y1_predict = model.predict(x_train)\n",
    "print(y1_predict)\n",
    "print(accuracy_score(y1, y1_predict))"
   ]
  },
  {
   "cell_type": "code",
   "execution_count": 327,
   "metadata": {},
   "outputs": [
    {
     "name": "stdout",
     "output_type": "stream",
     "text": [
      "['Perch' 'Perch' 'Perch' 'Smelt' 'Pike' 'Perch' 'Perch' 'Bream' 'Perch'\n",
      " 'Smelt' 'Bream' 'Perch' 'Pike' 'Bream' 'Smelt' 'Bream' 'Bream' 'Perch'\n",
      " 'Perch' 'Perch' 'Perch' 'Perch' 'Smelt' 'Perch' 'Perch' 'Bream' 'Perch'\n",
      " 'Perch' 'Perch' 'Pike' 'Perch' 'Smelt' 'Smelt' 'Pike' 'Pike' 'Perch'\n",
      " 'Bream' 'Perch' 'Perch' 'Roach' 'Smelt' 'Perch' 'Perch' 'Smelt' 'Perch'\n",
      " 'Bream' 'Perch' 'Perch' 'Parkki' 'Whitefish' 'Perch' 'Bream' 'Bream'\n",
      " 'Pike' 'Perch' 'Perch' 'Perch' 'Bream' 'Bream' 'Bream' 'Perch'\n",
      " 'Whitefish' 'Bream' 'Perch' 'Bream' 'Pike' 'Perch' 'Bream' 'Perch'\n",
      " 'Roach' 'Perch' 'Whitefish' 'Bream' 'Perch' 'Perch' 'Perch' 'Pike'\n",
      " 'Perch' 'Roach' 'Perch' 'Perch' 'Perch' 'Smelt' 'Perch' 'Pike' 'Parkki'\n",
      " 'Bream' 'Parkki' 'Parkki' 'Perch' 'Perch' 'Pike' 'Pike' 'Smelt' 'Bream'\n",
      " 'Smelt' 'Bream' 'Perch' 'Bream' 'Perch' 'Perch' 'Perch' 'Perch' 'Roach'\n",
      " 'Perch' 'Perch' 'Bream' 'Pike' 'Perch' 'Bream' 'Perch']\n",
      "0.8018018018018018\n"
     ]
    }
   ],
   "source": [
    "model = LogisticRegression(random_state = 27).fit(x_train, y_train)\n",
    "y_train_predict = model.predict(x_train)\n",
    "print(y_train_predict)\n",
    "print(accuracy_score(y_train, y_train_predict))"
   ]
  },
  {
   "cell_type": "markdown",
   "metadata": {},
   "source": [
    "Be, si els altres models han sigut més sistemàtics de entrenar, aquest serà una mica més complicat. \n",
    "\n",
    "En contes d'entrenar les cinc classes que hem definit i deixar el resultat en funció de Other fishes, farem un segon entrenament però només de Other Fishes. Així desprès podrem eliminar la classe Other Fishes i tornar a les nostres classes inicials d'espècies, però assegurant-nos de que les espècies que formen part de Other Fishes no tinguin la mateixa classificació (és a dir, el mateix F1-score) ni que, per exemple, l'espècie Whitefish accepti com a Whitefishs peixos que siguin Roach. "
   ]
  },
  {
   "cell_type": "code",
   "execution_count": 328,
   "metadata": {},
   "outputs": [
    {
     "name": "stdout",
     "output_type": "stream",
     "text": [
      "SIZE of dataset 111\n",
      "SIZE of dataset 111\n",
      "SIZE of dataset 111\n",
      "SIZE of dataset 111\n",
      "SIZE of dataset 111\n",
      "SIZE of dataset 30\n",
      "SIZE of dataset 30\n",
      "SIZE of dataset 30\n",
      "Accuracy:  0.9819819819819819\n",
      "Classification report:\n",
      "                precision    recall  f1-score   support\n",
      "\n",
      "       Bream       1.00      1.00      1.00        24\n",
      "      Parkki       1.00      1.00      1.00         8\n",
      "       Perch       0.95      1.00      0.97        39\n",
      "        Pike       1.00      1.00      1.00        12\n",
      "       Roach       1.00      1.00      1.00        14\n",
      "       Smelt       1.00      1.00      1.00        10\n",
      "   Whitefish       1.00      0.50      0.67         4\n",
      "\n",
      "    accuracy                           0.98       111\n",
      "   macro avg       0.99      0.93      0.95       111\n",
      "weighted avg       0.98      0.98      0.98       111\n",
      "\n",
      "Accuracy:  0.9819819819819819\n"
     ]
    }
   ],
   "source": [
    "models = []\n",
    "fishes1 = ['Bream', 'Parkki', 'Perch', 'Smelt', 'Other fishes']\n",
    "fishes1 = np.array(fishes1)\n",
    "for fish in fishes1: \n",
    "    x_local, y_local = convert_dataset_to_binary_one_vs_rest(x_train, y1, fish)\n",
    "    y_local = y_local.astype(int)\n",
    "    model = LogisticRegression(random_state = 27, class_weight = \"balanced\").fit(x_local, y_local)\n",
    "    models.append(model)\n",
    "    \n",
    "models2 = []\n",
    "fishes2 = ['Roach', 'Pike', 'Whitefish']\n",
    "fishes2 = np.array(fishes2)\n",
    "for fish in fishes2: \n",
    "    x_local, y_local = convert_dataset_to_binary_one_vs_rest(x2, y2, fish)\n",
    "    y_local = y_local.astype(int)\n",
    "    model = LogisticRegression(random_state = 27).fit(x_local, y_local)\n",
    "    models2.append(model)\n",
    "    \n",
    "probabilitats = []\n",
    "for i in range(len(fishes1)): \n",
    "    prob = models[i].predict_proba(x_train)\n",
    "    probabilitats.append(prob[:,1])\n",
    "probabilitats = np.array(probabilitats)  \n",
    "probabilitats = np.transpose(probabilitats)\n",
    "\n",
    "maxim = np.argmax(probabilitats, axis = 1) \n",
    "predict = fishes1[maxim]\n",
    "\n",
    "for i,p in enumerate(predict):  #diu el valor i l'index (p serà el prediction i i l'índex)\n",
    "    if p == 'Other fishes': \n",
    "        probabilitats2 = []\n",
    "        for j in range(len(fishes2)):\n",
    "            t = [x_train[i]]\n",
    "            t = np.array(t)\n",
    "            prob = models2[j].predict_proba(t) #volem predir  aquest i concret\n",
    "            probabilitats2.append(prob[:,1])\n",
    "        probabilitats2 = np.array(probabilitats2)\n",
    "        maxim2 = np.argmax(probabilitats2)\n",
    "        predict[i] = fishes2[maxim2]\n",
    "print(\"Accuracy: \", accuracy_score(y_train, predict))\n",
    "classification = classification_report(y_train, predict)\n",
    "print(\"Classification report:\\n \", classification)\n",
    "\n",
    "print(\"Accuracy: \", accuracy_score(y1, fishes1[maxim]))"
   ]
  },
  {
   "cell_type": "code",
   "execution_count": 329,
   "metadata": {},
   "outputs": [
    {
     "name": "stdout",
     "output_type": "stream",
     "text": [
      "Accuracy:  0.875\n",
      "Classification report:\n",
      "                precision    recall  f1-score   support\n",
      "\n",
      "       Bream       1.00      0.91      0.95        11\n",
      "      Parkki       0.75      1.00      0.86         3\n",
      "       Perch       1.00      0.94      0.97        17\n",
      "        Pike       1.00      0.80      0.89         5\n",
      "       Roach       0.75      0.50      0.60         6\n",
      "       Smelt       0.80      1.00      0.89         4\n",
      "   Whitefish       0.40      1.00      0.57         2\n",
      "\n",
      "    accuracy                           0.88        48\n",
      "   macro avg       0.81      0.88      0.82        48\n",
      "weighted avg       0.91      0.88      0.88        48\n",
      "\n"
     ]
    }
   ],
   "source": [
    "probabilitats = []\n",
    "for i in range(len(fishes1)): \n",
    "    prob = models[i].predict_proba(x_test)\n",
    "    probabilitats.append(prob[:,1])\n",
    "probabilitats = np.array(probabilitats)  \n",
    "probabilitats = np.transpose(probabilitats)\n",
    "\n",
    "\n",
    "\n",
    "maxim = np.argmax(probabilitats, axis = 1)\n",
    "\n",
    "predict = fishes1[maxim]\n",
    "\n",
    "\n",
    "for i,p in enumerate(predict):  #diu el valor i l'index (p serà el prediction i i l'índex)\n",
    "    if p == 'Other fishes': \n",
    "        probabilitats2 = []\n",
    "        for j in range(len(fishes2)):\n",
    "            t = [x_test[i]]\n",
    "            t = np.array(t)\n",
    "            prob = models2[j].predict_proba(t) #volem predir  aquest i concret\n",
    "            probabilitats2.append(prob[:,1])\n",
    "        probabilitats2 = np.array(probabilitats2)\n",
    "        maxim2 = np.argmax(probabilitats2)\n",
    "        predict[i] = fishes2[maxim2]\n",
    "print(\"Accuracy: \", accuracy_score(y_test, predict))\n",
    "classification = classification_report(y_test, predict)\n",
    "print(\"Classification report:\\n \", classification)\n"
   ]
  },
  {
   "cell_type": "markdown",
   "metadata": {},
   "source": [
    "Podem veure que el Model 3 millora fortament els F1-score de les tres classes que al Model 2 ens donaven problemes. Encara que les classes Roach i Whitefish tenen el F1-score més baix que la resta d'espècies, no es preocupant ja que si ens enrecordem del repartiment de les dades (quants peixos hi ha de cada espècie al nostra dataset) tenen poques dades. "
   ]
  },
  {
   "cell_type": "markdown",
   "metadata": {},
   "source": [
    "## 2.4 MODEL 4"
   ]
  },
  {
   "cell_type": "markdown",
   "metadata": {},
   "source": [
    "Podem intentar de fer-ho d'una última forma que no ens assegura una millora al nostre dataset. Podem provar d'eliminar completament la classe Whitefish, tornar a entrenar el nostre model i veure si els F1-scores i l'accuracy es més òptima. "
   ]
  },
  {
   "cell_type": "code",
   "execution_count": 330,
   "metadata": {},
   "outputs": [
    {
     "name": "stdout",
     "output_type": "stream",
     "text": [
      "SIZE of dataset 107\n",
      "SIZE of dataset 107\n",
      "SIZE of dataset 107\n",
      "SIZE of dataset 107\n",
      "SIZE of dataset 107\n",
      "SIZE of dataset 107\n",
      "1.0\n",
      "ACCURACY TEST: 0.8478260869565217\n",
      "Classification report:\n",
      "                precision    recall  f1-score   support\n",
      "\n",
      "       Bream       1.00      0.91      0.95        11\n",
      "      Parkki       1.00      1.00      1.00         3\n",
      "       Perch       0.89      0.94      0.91        17\n",
      "        Pike       1.00      0.40      0.57         5\n",
      "       Roach       0.50      0.67      0.57         6\n",
      "       Smelt       0.80      1.00      0.89         4\n",
      "\n",
      "    accuracy                           0.85        46\n",
      "   macro avg       0.86      0.82      0.82        46\n",
      "weighted avg       0.88      0.85      0.84        46\n",
      "\n"
     ]
    }
   ],
   "source": [
    "index_whitefish = y == 'Whitefish'\n",
    "y_reduced = y[~index_whitefish]\n",
    "x_reduced = x[~index_whitefish]\n",
    "x_train_reduced,x_test_reduced,y_train_reduced,y_test_reduced = train_test_split(x_reduced,y_reduced,test_size=0.3, random_state = 0, stratify = y_reduced)\n",
    "\n",
    "models = []\n",
    "for fish in fishes[:-1]: \n",
    "    x_local, y_local = convert_dataset_to_binary_one_vs_rest(x_train_reduced, y_train_reduced, fish)\n",
    "    y_local = y_local.astype(int)\n",
    "    model = LogisticRegression(random_state = 27, class_weight = \"balanced\").fit(x_local, y_local)\n",
    "    models.append(model)\n",
    "    \n",
    "\n",
    "probabilitats = []\n",
    "for i in range(len(fishes[:-1])): \n",
    "    prob = models[i].predict_proba(x_train_reduced)\n",
    "    probabilitats.append(prob[:,1])\n",
    "probabilitats = np.array(probabilitats)  \n",
    "probabilitats = np.transpose(probabilitats)\n",
    "\n",
    "maxim = np.argmax(probabilitats, axis = 1) \n",
    "\n",
    "\n",
    "print(accuracy_score(y_train_reduced, fishes[maxim]))\n",
    "\n",
    "\n",
    "#CAS TEST\n",
    "probabilitats = []\n",
    "for i in range(len(fishes[:-1])): \n",
    "    prob = models[i].predict_proba(x_test_reduced)\n",
    "    probabilitats.append(prob[:,1])\n",
    "\n",
    "probabilitats = np.array(probabilitats)  \n",
    "probabilitats = np.transpose(probabilitats)\n",
    "\n",
    "maxim = np.argmax(probabilitats, axis = 1) \n",
    "\n",
    "print(\"ACCURACY TEST:\",accuracy_score(y_test_reduced, fishes[maxim]))\n",
    "classification = classification_report(y_test_reduced, fishes[maxim])\n",
    "print(\"Classification report:\\n \", classification)\n"
   ]
  },
  {
   "cell_type": "markdown",
   "metadata": {},
   "source": [
    "Podem veure que el F1-score de les classes generalment millora excepte en els casos de les dues espècies que ens donaven problemes al Model 2 : Pike i Roach. \n",
    "\n",
    "Veiem també que l'accuracy general és lleugerament pitjor que la del Model 3. \n",
    "\n",
    "Encara que podria ser en alguns datasets molt bona opció eliminar la classe que dona problemes, en un dataset com aquest amb poca informació (tenim pocs peixos a la nostre base de dades) no millora eliminar una classe. "
   ]
  },
  {
   "cell_type": "markdown",
   "metadata": {},
   "source": [
    "## 3. Conclusions"
   ]
  },
  {
   "cell_type": "markdown",
   "metadata": {},
   "source": [
    "Després d'estudiar la base de dades i entrenar els 4 models, podem dir que el millor per treballar amb aquest concret dataset és el Model 3. \n",
    "\n",
    "El Model 3 té en conte totes les classes i fa un doble entrenament per assegurar-se de que cada classe predigui be. És a dir, es centra més en una predicció individual un a un per a cada classe que no pas en una predicció global. \n",
    "\n",
    "Però és important dir que el Model 3 funciona millor que els altres gràcies al Model 2, on ens hem adonat de que hem de treballar amb pesos (en la Regressió Logística feta en el Model 3 treballem amb pesos). \n",
    "\n",
    "Encara que el model ens doni una accuracy força bona, s'ha de dir que aquest dataset no conta amb moltes dades inicials amb les que treballar i pot ser amb un dataset més gran els resultats canviarien i podriem veure millor si realment és el Model 3 el que entrena millor. \n",
    "\n",
    "Aquesta pràctica ha estat molt interessant i he pogut veure l'aplicació de l'anàlisi de dades a coses quotidianes com un mercat de peixos. "
   ]
  }
 ],
 "metadata": {
  "kernelspec": {
   "display_name": "Python 3",
   "language": "python",
   "name": "python3"
  },
  "language_info": {
   "codemirror_mode": {
    "name": "ipython",
    "version": 3
   },
   "file_extension": ".py",
   "mimetype": "text/x-python",
   "name": "python",
   "nbconvert_exporter": "python",
   "pygments_lexer": "ipython3",
   "version": "3.8.5"
  }
 },
 "nbformat": 4,
 "nbformat_minor": 4
}
